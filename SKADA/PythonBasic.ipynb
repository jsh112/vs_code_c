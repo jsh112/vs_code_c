 "cells": [
  {
   "cell_type": "markdown",
   "metadata": {},
   "source": [
    "## 자료구조 (Data Structure)\n"
   ]
  },
  {
   "cell_type": "markdown",
   "metadata": {},
   "source": [
    "- print(value, sep='', end='\\n',...)\n",
    "\n",
    "  - value를 출력\n",
    "\n",
    "  - sep : 출력되는 value들 사이 분리 기호\n",
    "\n",
    "  - end : 출력 문자열 마지막 문자 (기본 값 : 줄바꿈('\\n'))\n"
   ]
  },
  {
   "cell_type": "code",
   "execution_count": 39,
   "metadata": {},
   "outputs": [
    {
     "name": "stdout",
     "output_type": "stream",
     "text": [
      "오늘은 일요일+\n",
      "오늘은 일요일\n"
     ]
    }
   ],
   "source": [
    "import numpy as np\n",
    "import pandas as pd\n",
    "print(\"오늘은\", \"일요일\", end='+\\n')\n",
    "print(\"오늘은\", \"일요일\")"
   ]
  },
  {
   "cell_type": "markdown",
   "metadata": {},
   "source": [
    "##### 변수\n"
   ]
  },
  {
   "cell_type": "markdown",
   "metadata": {},
   "source": [
    "- 변수란 자료형의 값을 저장하는 공간\n",
    "\n",
    "- 변수명 = 변수에 저장할 값\n",
    "\n",
    "- 변수의 타입 확인 : type(b)\n"
   ]
  },
  {
   "cell_type": "markdown",
   "metadata": {},
   "source": [
    "#### 데이터 타입\n"
   ]
  },
  {
   "cell_type": "code",
   "execution_count": 43,
   "metadata": {},
   "outputs": [
    {
     "data": {
      "text/html": [
       "<div>\n",
       "<style scoped>\n",
       "    .dataframe tbody tr th:only-of-type {\n",
       "        vertical-align: middle;\n",
       "    }\n",
       "\n",
       "    .dataframe tbody tr th {\n",
       "        vertical-align: top;\n",
       "    }\n",
       "\n",
       "    .dataframe thead th {\n",
       "        text-align: right;\n",
       "    }\n",
       "</style>\n",
       "<table border=\"1\" class=\"dataframe\">\n",
       "  <thead>\n",
       "    <tr style=\"text-align: right;\">\n",
       "      <th></th>\n",
       "      <th>분류</th>\n",
       "      <th>타입</th>\n",
       "      <th>타입명</th>\n",
       "      <th>리터럴 예시</th>\n",
       "    </tr>\n",
       "  </thead>\n",
       "  <tbody>\n",
       "    <tr>\n",
       "      <th>0</th>\n",
       "      <td>Number</td>\n",
       "      <td>Integer</td>\n",
       "      <td>int</td>\n",
       "      <td>1, 4, 10</td>\n",
       "    </tr>\n",
       "    <tr>\n",
       "      <th>1</th>\n",
       "      <td>Number</td>\n",
       "      <td>Real number</td>\n",
       "      <td>float</td>\n",
       "      <td>3.156</td>\n",
       "    </tr>\n",
       "    <tr>\n",
       "      <th>2</th>\n",
       "      <td>Boolean</td>\n",
       "      <td>Boolean</td>\n",
       "      <td>bool</td>\n",
       "      <td>True, False</td>\n",
       "    </tr>\n",
       "    <tr>\n",
       "      <th>3</th>\n",
       "      <td>Sequnce</td>\n",
       "      <td>String</td>\n",
       "      <td>Str</td>\n",
       "      <td>\"Hello World!\"</td>\n",
       "    </tr>\n",
       "    <tr>\n",
       "      <th>4</th>\n",
       "      <td>Set</td>\n",
       "      <td>List</td>\n",
       "      <td>list</td>\n",
       "      <td>[10, 20, 30, 40]</td>\n",
       "    </tr>\n",
       "    <tr>\n",
       "      <th>5</th>\n",
       "      <td>Set</td>\n",
       "      <td>Tuple</td>\n",
       "      <td>tuple</td>\n",
       "      <td>(1, 2, 3, 4)</td>\n",
       "    </tr>\n",
       "    <tr>\n",
       "      <th>6</th>\n",
       "      <td>Set</td>\n",
       "      <td>Set</td>\n",
       "      <td>set</td>\n",
       "      <td>{3, 5, 9, 10}</td>\n",
       "    </tr>\n",
       "    <tr>\n",
       "      <th>7</th>\n",
       "      <td>Dictionary</td>\n",
       "      <td>Dictionary</td>\n",
       "      <td>dict</td>\n",
       "      <td>{'a':1, 'b':2}</td>\n",
       "    </tr>\n",
       "  </tbody>\n",
       "</table>\n",
       "</div>"
      ],
      "text/plain": [
       "           분류           타입    타입명            리터럴 예시\n",
       "0      Number      Integer    int          1, 4, 10\n",
       "1      Number  Real number  float             3.156\n",
       "2     Boolean      Boolean   bool       True, False\n",
       "3     Sequnce       String    Str    \"Hello World!\"\n",
       "4         Set         List   list  [10, 20, 30, 40]\n",
       "5         Set        Tuple  tuple      (1, 2, 3, 4)\n",
       "6         Set          Set    set     {3, 5, 9, 10}\n",
       "7  Dictionary   Dictionary   dict    {'a':1, 'b':2}"
      ]
     },
     "execution_count": 43,
     "metadata": {},
     "output_type": "execute_result"
    }
   ],
   "source": [
    "# 데이터프레임 생성\n",
    "data = {\n",
    "    '분류': ['Number', '', 'Boolean', 'Sequnce', 'Set', '', '', 'Dictionary'],\n",
    "    '타입': ['Integer', 'Real number', 'Boolean', 'String', 'List', 'Tuple', 'Set', 'Dictionary'],\n",
    "    '타입명': ['int', 'float', 'bool', 'Str', 'list', 'tuple', 'set', 'dict'],\n",
    "    '리터럴 예시': ['1, 4, 10', '3.156', 'True, False', '\\\"Hello World!\\\"', '[10, 20, 30, 40]', '(1, 2, 3, 4)', '{3, 5, 9, 10}', '{\\'a\\':1, \\'b\\':2}']\n",
    "}\n",
    "\n",
    "df = pd.DataFrame(data)\n",
    "\n",
    "# 빈 문자열을 NaN으로 바꾸고 forward fill로 병합 효과 주기\n",
    "df.replace('', pd.NA, inplace=True)\n",
    "df.ffill(inplace=True)\n",
    "\n",
    "# 데이터프레임 스타일링 출력\n",
    "df"
   ]
  },
  {
   "cell_type": "markdown",
   "metadata": {},
   "source": [
    "#### 숫자형 타입 확인과 변경\n"
   ]
  },
  {
   "cell_type": "code",
   "execution_count": 41,
   "metadata": {},
   "outputs": [
    {
     "name": "stdout",
     "output_type": "stream",
     "text": [
      "<class 'int'>\n",
      "<class 'float'>\n",
      "<class 'str'>\n",
      "<class 'bool'>\n"
     ]
    }
   ],
   "source": [
    "print(type(1))\n",
    "print(type(3.14))\n",
    "print(type(\"hi\"))\n",
    "print(type(True))"
   ]
  },
  {
   "cell_type": "markdown",
   "metadata": {},
   "source": [
    "- type 변경\n"
   ]
  },
  {
   "cell_type": "code",
   "execution_count": 42,
   "metadata": {},
   "outputs": [
    {
     "name": "stdout",
     "output_type": "stream",
     "text": [
      "<class 'int'>\n",
      "float(a) = 1.0\n",
      "int(b) = 3\n",
      "int(c) = 1\n",
      "int(d) = 0\n",
      "float(True) = 1.0\n"
     ]
    }
   ],
   "source": [
    "a = 1\n",
    "print(type(a))\n",
    "print(f'float(a) = {float(a)}')\n",
    "b = 3.99\n",
    "print(f'int(b) = {int(b)}')\n",
    "c = True\n",
    "print(f'int(c) = {int(c)}')\n",
    "d = False\n",
    "print(f'int(d) = {int(d)}')\n",
    "print(f'float(True) = {float(True)}')"
   ]
  },
  {
   "cell_type": "markdown",
   "metadata": {},
   "source": [
    "### 03.집합형 자료구조\n"
   ]
  },
  {
   "cell_type": "markdown",
   "metadata": {},
   "source": [
    "List, Tuple, Set, Dictionary\n"
   ]
  },
  {
   "cell_type": "markdown",
   "metadata": {},
   "source": [
    "- List\n",
    "  - 여러 가지 형태의 변수를 하나의 순서가 있는 배열로 묶어놓은 형태\n",
    "- Tuple\n",
    "  - 조회만 가능하고 변경이 불가능한 리스트\n",
    "- Set\n",
    "  - 순서가 없고 중복을 허용하지 않음\n",
    "- Dictionary\n",
    "  - Key와 Value 형태로 데이터를 저장함\n"
   ]
  },
  {
   "cell_type": "markdown",
   "metadata": {},
   "source": [
    "#### List\n"
   ]
  },
  {
   "cell_type": "markdown",
   "metadata": {},
   "source": [
    "- Rules of List\n",
    "\n",
    "  - list는 다양한 type의 데이터를 집합으로 가진다.\n",
    "  - list 안에 list도 허용합니다.\n",
    "  - list는 order의 개념이 존재합니다.\n",
    "\n",
    "- Rules for creating List\n",
    "  - mylist = []\n",
    "  - mylist = [1,2,3,4,5]\n",
    "  - mylist = list()\n"
   ]
  },
  {
   "cell_type": "code",
   "execution_count": 44,
   "metadata": {},
   "outputs": [
    {
     "name": "stdout",
     "output_type": "stream",
     "text": [
      "[]\n",
      "[1, 2, 3]\n",
      "[1, 'hello', 3, 3.14, True]\n",
      "[1, 'hello', [6, 7, '8']]\n"
     ]
    }
   ],
   "source": [
    "a = []\n",
    "print(a)\n",
    "b = [1, 2, 3]\n",
    "print(b)\n",
    "a = [1, 'hello', 3, 3.14, True]\n",
    "print(a)\n",
    "c = [1, 'hello', [6, 7, '8']]\n",
    "print(c)"
   ]
  },
  {
   "cell_type": "markdown",
   "metadata": {},
   "source": [
    "- List는 다양한 method 혹은 function을 지원하며 method를 활용하여 요소를 추가, 삭제, 변경\n",
    "\n",
    "  - method : object가 포함하는 함수 혹은 기능입니다.\n",
    "  - . 점 연산자로 함수를 실행할 수 있습니다.\n",
    "\n",
    "- append() : 값 추가\n",
    "  - append(value) : 리스트의 맨 마지막에 '값' 추가\n"
   ]
  },
  {
   "cell_type": "code",
   "execution_count": 45,
   "metadata": {},
   "outputs": [
    {
     "name": "stdout",
     "output_type": "stream",
     "text": [
      "[1, 5, 5, 5, 5, 5]\n"
     ]
    }
   ],
   "source": [
    "mylist = [1]\n",
    "for i in range(5):\n",
    "    mylist.append(5)\n",
    "print(mylist)"
   ]
  },
  {
   "cell_type": "markdown",
   "metadata": {},
   "source": [
    "- insert(index, value) : index에 value 삽입\n"
   ]
  },
  {
   "cell_type": "code",
   "execution_count": 47,
   "metadata": {},
   "outputs": [
    {
     "name": "stdout",
     "output_type": "stream",
     "text": [
      "[1, 'hi', 5, 5, 5, 5, 5]\n"
     ]
    }
   ],
   "source": [
    "mylist.insert(1, 'hi')\n",
    "print(mylist)"
   ]
  },
  {
   "cell_type": "markdown",
   "metadata": {},
   "source": [
    "- 삭제\n",
    "  - remove(value) : 첫 번쨰로 나오는 value 삭제\n",
    "  - pop(index) : index 번째 요소를 반환 및 삭제\n"
   ]
  },
  {
   "cell_type": "code",
   "execution_count": 48,
   "metadata": {},
   "outputs": [
    {
     "data": {
      "text/plain": [
       "[100, 7, 7, 7, 3]"
      ]
     },
     "execution_count": 48,
     "metadata": {},
     "output_type": "execute_result"
    }
   ],
   "source": [
    "mylist = [1, 100, 7, 7, 7, 3]\n",
    "mylist.remove(1)\n",
    "mylist"
   ]
  },
  {
   "cell_type": "code",
   "execution_count": 50,
   "metadata": {},
   "outputs": [
    {
     "data": {
      "text/plain": [
       "[1, 7, 7, 7, 3]"
      ]
     },
     "execution_count": 50,
     "metadata": {},
     "output_type": "execute_result"
    }
   ],
   "source": [
    "mylist = [1, 100, 7, 7, 7, 3]\n",
    "mylist.pop(1)  # 100\n",
    "mylist"
   ]
  },
  {
   "cell_type": "markdown",
   "metadata": {},
   "source": [
    "- len() : length of List\n",
    "  - len(list)\n"
   ]
  },
  {
   "cell_type": "code",
   "execution_count": 51,
   "metadata": {},
   "outputs": [
    {
     "data": {
      "text/plain": [
       "6"
      ]
     },
     "execution_count": 51,
     "metadata": {},
     "output_type": "execute_result"
    }
   ],
   "source": [
    "mylist = [1, 100, 7, 7, 7, 3]\n",
    "len(mylist)"
   ]
  },
  {
   "cell_type": "markdown",
   "metadata": {},
   "source": [
    "- 정렬\n",
    "  - sort() : 정렬\n",
    "  - sort(reverse = True) : 내림차순 정렬\n",
    "- 확장\n",
    "  - extend() : 리스트 확장\n",
    "- 색인 : index\n",
    "  - mylist[1,2,3,4]\n"
   ]
  },
  {
   "cell_type": "code",
   "execution_count": 52,
   "metadata": {},
   "outputs": [
    {
     "data": {
      "text/plain": [
       "[2, 10, 20, 30, 40, 50]"
      ]
     },
     "execution_count": 52,
     "metadata": {},
     "output_type": "execute_result"
    }
   ],
   "source": [
    "mylist = [10, 20, 30, 40, 50, 2]\n",
    "mylist.sort()\n",
    "mylist"
   ]
  },
  {
   "cell_type": "code",
   "execution_count": 54,
   "metadata": {},
   "outputs": [
    {
     "data": {
      "text/plain": [
       "[50, 40, 30, 20, 10, 2]"
      ]
     },
     "execution_count": 54,
     "metadata": {},
     "output_type": "execute_result"
    }
   ],
   "source": [
    "mylist = [10, 20, 30, 40, 50, 2]\n",
    "mylist.sort(reverse=True)\n",
    "mylist"
   ]
  },
  {
   "cell_type": "code",
   "execution_count": 56,
   "metadata": {},
   "outputs": [
    {
     "name": "stdout",
     "output_type": "stream",
     "text": [
      "[1, 2, 3]\n"
     ]
    },
    {
     "data": {
      "text/plain": [
       "[1, 2, 3, 4, 5]"
      ]
     },
     "execution_count": 56,
     "metadata": {},
     "output_type": "execute_result"
    }
   ],
   "source": [
    "a = [1, 2, 3]\n",
    "print(a)\n",
    "a.extend([4, 5])\n",
    "a"
   ]
  },
  {
   "cell_type": "code",
   "execution_count": 61,
   "metadata": {},
   "outputs": [
    {
     "name": "stdout",
     "output_type": "stream",
     "text": [
      "1\n",
      "4\n",
      "4\n",
      "2\n"
     ]
    }
   ],
   "source": [
    "mylist = [1, 2, 3, 4]\n",
    "print(mylist[0])\n",
    "print(mylist[3])\n",
    "# print(mylist([4])) list index out of range\n",
    "print(mylist[-1])\n",
    "print(mylist[-3])\n",
    "# print(mylist([-5])) list index out of range"
   ]
  },
  {
   "cell_type": "markdown",
   "metadata": {},
   "source": [
    "- 리스트 색인하여 값 수정\n"
   ]
  },
  {
   "cell_type": "code",
   "execution_count": 66,
   "metadata": {},
   "outputs": [
    {
     "name": "stdout",
     "output_type": "stream",
     "text": [
      "[[1, 2, 3], [4, 5, 6], [7, 8, 9]]\n",
      "[100, [4, 5, 6], [7, 8, 9]]\n",
      "[100, [4, 5, 6], 300]\n"
     ]
    }
   ],
   "source": [
    "print(mylist)\n",
    "mylist[0] = 100\n",
    "print(mylist)\n",
    "mylist[-1] = 300\n",
    "print(mylist)"
   ]
  },
  {
   "cell_type": "markdown",
   "metadata": {},
   "source": [
    "- 중첩 리스트 색인\n"
   ]
  },
  {
   "cell_type": "code",
   "execution_count": 65,
   "metadata": {},
   "outputs": [
    {
     "name": "stdout",
     "output_type": "stream",
     "text": [
      "[[1, 2, 3], [4, 5, 6], [7, 8, 9]]\n",
      "[4, 5, 6]\n",
      "5\n"
     ]
    }
   ],
   "source": [
    "mylist = [[1, 2, 3], [4, 5, 6], [7, 8, 9]]\n",
    "print(mylist)\n",
    "print(mylist[1])\n",
    "print(mylist[1][1])"
   ]
  },
  {
   "cell_type": "markdown",
   "metadata": {},
   "source": [
    "- 슬라이싱 (추출)\n",
    "  - mylist[starting index : end index : step]\n"
   ]
  },
  {
   "cell_type": "code",
   "execution_count": 67,
   "metadata": {},
   "outputs": [
    {
     "name": "stdout",
     "output_type": "stream",
     "text": [
      "[200, 300]\n",
      "[300, 400]\n",
      "[300, 400, 500]\n",
      "[100, 200, 300]\n",
      "[300, 400, 500]\n"
     ]
    }
   ],
   "source": [
    "mylist = [100, 200, 300, 400, 500]\n",
    "print(mylist[1:3])\n",
    "print(mylist[-3:-1])\n",
    "print(mylist[2:])\n",
    "print(mylist[:3])\n",
    "print(mylist[-3:])"
   ]
  },
  {
   "cell_type": "code",
   "execution_count": 68,
   "metadata": {},
   "outputs": [
    {
     "name": "stdout",
     "output_type": "stream",
     "text": [
      "[100, 200, 300, 400, 500]\n",
      "[500, 400, 300, 200, 100]\n",
      "[100, 300, 500]\n",
      "[200, 400]\n",
      "[400, 300]\n"
     ]
    }
   ],
   "source": [
    "print(mylist)\n",
    "print(mylist[::-1])\n",
    "print(mylist[::2])\n",
    "print(mylist[1::2])\n",
    "print(mylist[3:1:-1])"
   ]
  },
  {
   "cell_type": "markdown",
   "metadata": {},
   "source": [
    "### Tuple\n",
    "\n",
    "- 데이터 변경이 불가능한 리스트. 즉, 요소에 대한 **수정, 삭제, 변경**이 **불가**\n",
    "\n",
    "- 리스트는 `Square Brackets` (대괄호, [])로 둘러싸여 있지만 Tuple은 `parentheses` (소괄호, ())로 둘러싸임\n",
    "\n",
    "- Tuple의 생성\n",
    "\n",
    "  - mytuple = (1,2,3)\n",
    "  - mytuple = 1,2,3\n",
    "\n",
    "- 리스트는 값의 추가, 수정, 삭제가 가능하지만 튜플은 불가능함\n",
    "\n",
    "- 튜플의 인덱싱과 슬라이싱은 리스트와 동일\n",
    "\n",
    "- 값들의 수정이 불필요할 경우 리스트보다 튜플을 사용하는 것이 더 효율적\n",
    "\n",
    "### Set\n",
    "\n",
    "- 집합은 `Curly braces` ({}, 중괄호) 안에 `comma`로 값들을 구분\n",
    "\n",
    "- **중복을 허용하지 않으며** 순서가 없음\n"
   ]
  },
  {
   "cell_type": "code",
   "execution_count": 72,
   "metadata": {},
   "outputs": [
    {
     "name": "stdout",
     "output_type": "stream",
     "text": [
      "set()\n",
      "{1, 2, 3, 4}\n",
      "{1, 2, 3, 4, 5, 6}\n"
     ]
    }
   ],
   "source": [
    "myset = set()\n",
    "print(myset)\n",
    "myset = set([1, 2, 2, 3, 1, 1, 3, 4, 3, 1, 2, 3])\n",
    "print(myset)\n",
    "myset = {1, 1, 1, 1, 2, 3, 3, 4, 5, 6, 2, 2, 2, 2}\n",
    "print(myset)"
   ]
  },
  {
   "cell_type": "markdown",
   "metadata": {},
   "source": [
    "- add(value) : add the value\n",
    "  - myset.add(value) 로 사용가능\n"
   ]
  },
  {
   "cell_type": "code",
   "execution_count": 78,
   "metadata": {},
   "outputs": [
    {
     "name": "stdout",
     "output_type": "stream",
     "text": [
      "{1, 2, 3}\n"
     ]
    }
   ],
   "source": [
    "myset = set()\n",
    "\n",
    "for i in range(3):\n",
    "    for j in range(1, 4):\n",
    "        myset.add(j)\n",
    "print(myset)"
   ]
  },
  {
   "cell_type": "markdown",
   "metadata": {},
   "source": [
    "- update(set) : 여러개의 값 일괄 추가\n"
   ]
  },
  {
   "cell_type": "code",
   "execution_count": 80,
   "metadata": {},
   "outputs": [
    {
     "data": {
      "text/plain": [
       "{1, 2, 3, 4, 5, 6}"
      ]
     },
     "execution_count": 80,
     "metadata": {},
     "output_type": "execute_result"
    }
   ],
   "source": [
    "myset = {1, 2, 3}\n",
    "myset.update([4, 5, 6])\n",
    "myset"
   ]
  },
  {
   "cell_type": "markdown",
   "metadata": {},
   "source": [
    "- 값 제거 : remove(value)"
   ]
  },
  {
   "cell_type": "code",
   "execution_count": 82,
   "metadata": {},
   "outputs": [
    {
     "name": "stdout",
     "output_type": "stream",
     "text": [
      "Before : {1, 2, 3, 4, 5, 6}\n",
      "After : {1, 3, 4, 5, 6}\n"
     ]
    }
   ],
   "source": [
    "myset = {1,2,3,4,5,6}\n",
    "print(f'Before : {myset}')\n",
    "myset.remove(2)\n",
    "print(f'After : {myset}')"
   ]
  },
  {
   "cell_type": "markdown",
   "metadata": {},
   "source": [
    "- Set는 집합의 특성을 가짐\n",
    "\n",
    "    - Intersection, Union, Difference\n",
    "\n",
    "- Intersection(교집합)\n",
    "\n",
    "- 출력이 set()이면 공집합(`empty set`) 이라고 한다\n"
   ]
  },
  {
   "cell_type": "code",
   "execution_count": 87,
   "metadata": {},
   "outputs": [
    {
     "name": "stdout",
     "output_type": "stream",
     "text": [
      "a & b = {3, 4, 5}\n",
      "a.intersection(b) = {3, 4, 5}\n",
      "a & c = set()\n"
     ]
    }
   ],
   "source": [
    "a = {1,2,3,4,5}\n",
    "b = {3,4,5,6,7,3.5,\"hi\"}\n",
    "c = set()\n",
    "print(f'a & b = {a & b}')\n",
    "print(f'a.intersection(b) = {a.intersection(b)}')\n",
    "print(f'a & c = {a & c}')"
   ]
  },
  {
   "cell_type": "markdown",
   "metadata": {},
   "source": [
    "- Union (합집합)"
   ]
  },
  {
   "cell_type": "code",
   "execution_count": 86,
   "metadata": {},
   "outputs": [
    {
     "name": "stdout",
     "output_type": "stream",
     "text": [
      "a | b = {1, 2, 3, 4, 5, 6, 7}\n",
      "a.union(b) = {1, 2, 3, 4, 5, 6, 7}\n"
     ]
    }
   ],
   "source": [
    "a = {1,2,3,4,5}\n",
    "b = {3,4,5,6,7}\n",
    "print(f'a | b = {a | b}')\n",
    "print(f'a.union(b) = {a.union(b)}')"
   ]
  },
  {
   "cell_type": "markdown",
   "metadata": {},
   "source": [
    "- Difference"
   ]
  },
  {
   "cell_type": "code",
   "execution_count": 89,
   "metadata": {},
   "outputs": [
    {
     "name": "stdout",
     "output_type": "stream",
     "text": [
      "a - b = {1, 2}\n",
      "b - a = {6, 7}\n",
      "a.difference(b) = {1, 2}\n",
      "a.difference(a) = set()\n",
      "b.difference(a) = {6, 7}\n"
     ]
    }
   ],
   "source": [
    "a = {1,2,3,4,5}\n",
    "b = {3,4,5,6,7}\n",
    "print(f'a - b = {a - b}')\n",
    "print('b - a = {}'.format(b - a))\n",
    "print(f'a.difference(b) = {a.difference(b)}')\n",
    "print(f'a.difference(a) = {a.difference(a)}')\n",
    "print(f'b.difference(a) = {b.difference(a)}')"
   ]
  },
  {
   "cell_type": "markdown",
   "metadata": {},
   "source": [
    "- Dictionary\n",
    "\n",
    "    - 딕셔너리는 key와 vlaue의 쌍 여러 개와 {} 로 구성되어 있음\n",
    "    mydict = {'a': 1, 'b': 'hi'}\n",
    "\n",
    "    - key 값을 통해 value를 얻음\n",
    "\n",
    "    - 순서가 없음\n",
    "\n",
    "    - key 값은 **고유한 값**이어야 함\n",
    "\n",
    "    - type은 dictionary가 아닌 축약형 `dict`로 출력\n"
   ]
  },
  {
   "cell_type": "code",
   "execution_count": 90,
   "metadata": {},
   "outputs": [
    {
     "name": "stdout",
     "output_type": "stream",
     "text": [
      "<class 'dict'>\n"
     ]
    }
   ],
   "source": [
    "mydict = dict()\n",
    "print(type(mydict))\n"
   ]
  },
  {
   "cell_type": "markdown",
   "metadata": {},
   "source": [
    "- dictionary value 조회(key를 이용하여 value 조회)"
   ]
  },
  {
   "cell_type": "code",
   "execution_count": 91,
   "metadata": {},
   "outputs": [
    {
     "data": {
      "text/plain": [
       "2"
      ]
     },
     "execution_count": 91,
     "metadata": {},
     "output_type": "execute_result"
    }
   ],
   "source": [
    "mydict = {'a': 1, 'b': 2, 'c': 3}\n",
    "mydict['b']\n",
    "# mydict['d']"
   ]
  },
  {
   "cell_type": "markdown",
   "metadata": {},
   "source": [
    "- 모든 key 조회 : dict.keys()\n",
    "\n",
    "- 모든 값 조회 : dict.values()\n",
    "\n",
    "- 모든 key, value 쌍 조회 : dict.items()\n"
   ]
  },
  {
   "cell_type": "code",
   "execution_count": 92,
   "metadata": {},
   "outputs": [
    {
     "name": "stdout",
     "output_type": "stream",
     "text": [
      "mydict.keys() = dict_keys(['a', 'b', 'c'])\n",
      "mydict.values() = dict_values([1, 2, 3])\n",
      "mydict.items() = dict_items([('a', 1), ('b', 2), ('c', 3)]))\n",
      "{'a': 1, 'b': 2, 'c': 3}\n"
     ]
    }
   ],
   "source": [
    "mydict = {'a': 1, 'b': 2, 'c': 3}\n",
    "\n",
    "print(f'mydict.keys() = {mydict.keys()}')\n",
    "\n",
    "print(f'mydict.values() = {mydict.values()}')\n",
    "\n",
    "print(f'mydict.items() = {mydict.items()})')\n",
    "\n",
    "print(mydict)"
   ]
  },
  {
   "cell_type": "code",
   "execution_count": null,
   "metadata": {},
   "outputs": [],
   "source": []
  }
 ],
 "metadata": {
  "kernelspec": {
   "display_name": "Python 3",
   "language": "python",
   "name": "python3"
  },
  "language_info": {
   "codemirror_mode": {
    "name": "ipython",
    "version": 3
   },
   "file_extension": ".py",
   "mimetype": "text/x-python",
   "name": "python",
   "nbconvert_exporter": "python",
   "pygments_lexer": "ipython3",
   "version": "3.12.3"
  }
 },
 "nbformat": 4,
 "nbformat_minor": 2
}
