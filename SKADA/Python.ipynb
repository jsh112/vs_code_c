{
 "cells": [
  {
   "cell_type": "markdown",
   "metadata": {},
   "source": [
    "## Data Structure"
   ]
  },
  {
   "cell_type": "markdown",
   "metadata": {},
   "source": [
    "### print (기본 입출력)\n",
    "\n",
    "- print(value, sep='', end='\\n', ...)\n",
    "\n",
    "    - value를 출력\n",
    "    - sep : 출력되는 value들 사이 분리 기호\n",
    "    - end : 출력 문자열 마지막 문자\n",
    "        - 기본값('\\n')"
   ]
  },
  {
   "cell_type": "code",
   "execution_count": 2,
   "metadata": {},
   "outputs": [
    {
     "name": "stdout",
     "output_type": "stream",
     "text": [
      "오늘 파이썬 배우기 좋은 날이네!\n",
      "오늘은 일요일+\n",
      "오늘은 일요일\n"
     ]
    }
   ],
   "source": [
    "print('오늘 파이썬 배우기 좋은 날이네!')\n",
    "print('오늘은', '일요일', end='+')\n",
    "print('\\n오늘은', '일요일')"
   ]
  },
  {
   "cell_type": "markdown",
   "metadata": {},
   "source": [
    "### 변수\n",
    "\n",
    "- 변수란 자료형의 값을 저장하는 공간\n",
    "- 변수명 = 변수에 저장할 값\n",
    "- 변수의 타입 확인 : type()"
   ]
  },
  {
   "cell_type": "code",
   "execution_count": 8,
   "metadata": {},
   "outputs": [
    {
     "data": {
      "text/html": [
       "<div>\n",
       "<style scoped>\n",
       "    .dataframe tbody tr th:only-of-type {\n",
       "        vertical-align: middle;\n",
       "    }\n",
       "\n",
       "    .dataframe tbody tr th {\n",
       "        vertical-align: top;\n",
       "    }\n",
       "\n",
       "    .dataframe thead th {\n",
       "        text-align: right;\n",
       "    }\n",
       "</style>\n",
       "<table border=\"1\" class=\"dataframe\">\n",
       "  <thead>\n",
       "    <tr style=\"text-align: right;\">\n",
       "      <th></th>\n",
       "      <th>분류</th>\n",
       "      <th>타입</th>\n",
       "      <th>타입명</th>\n",
       "      <th>리터럴 예시</th>\n",
       "    </tr>\n",
       "  </thead>\n",
       "  <tbody>\n",
       "    <tr>\n",
       "      <th>0</th>\n",
       "      <td>숫자</td>\n",
       "      <td>정수</td>\n",
       "      <td>int</td>\n",
       "      <td>1, 4, 10</td>\n",
       "    </tr>\n",
       "    <tr>\n",
       "      <th>1</th>\n",
       "      <td></td>\n",
       "      <td>실수</td>\n",
       "      <td>float</td>\n",
       "      <td>3.156</td>\n",
       "    </tr>\n",
       "    <tr>\n",
       "      <th>2</th>\n",
       "      <td>참, 거짓</td>\n",
       "      <td>불</td>\n",
       "      <td>bool</td>\n",
       "      <td>True, False</td>\n",
       "    </tr>\n",
       "    <tr>\n",
       "      <th>3</th>\n",
       "      <td>열거형</td>\n",
       "      <td>문자열</td>\n",
       "      <td>Str</td>\n",
       "      <td>\"Hello World\"</td>\n",
       "    </tr>\n",
       "    <tr>\n",
       "      <th>4</th>\n",
       "      <td>집합</td>\n",
       "      <td>리스트</td>\n",
       "      <td>list</td>\n",
       "      <td>[10, 20, 30, 40]</td>\n",
       "    </tr>\n",
       "    <tr>\n",
       "      <th>5</th>\n",
       "      <td></td>\n",
       "      <td>튜플</td>\n",
       "      <td>tuple</td>\n",
       "      <td>(1, 2, 3, 4)</td>\n",
       "    </tr>\n",
       "    <tr>\n",
       "      <th>6</th>\n",
       "      <td></td>\n",
       "      <td>세트</td>\n",
       "      <td>set</td>\n",
       "      <td>{3, 5, 9, 10}</td>\n",
       "    </tr>\n",
       "    <tr>\n",
       "      <th>7</th>\n",
       "      <td>사전</td>\n",
       "      <td>사전</td>\n",
       "      <td>dict</td>\n",
       "      <td>{'a':1, 'b':2}</td>\n",
       "    </tr>\n",
       "  </tbody>\n",
       "</table>\n",
       "</div>"
      ],
      "text/plain": [
       "      분류   타입    타입명            리터럴 예시\n",
       "0     숫자   정수    int          1, 4, 10\n",
       "1          실수  float             3.156\n",
       "2  참, 거짓    불   bool       True, False\n",
       "3    열거형  문자열    Str     \"Hello World\"\n",
       "4     집합  리스트   list  [10, 20, 30, 40]\n",
       "5          튜플  tuple      (1, 2, 3, 4)\n",
       "6          세트    set     {3, 5, 9, 10}\n",
       "7     사전   사전   dict    {'a':1, 'b':2}"
      ]
     },
     "execution_count": 8,
     "metadata": {},
     "output_type": "execute_result"
    }
   ],
   "source": [
    "import pandas as pd\n",
    "import numpy as np\n",
    "\n",
    "data = {\n",
    "    '분류' : ['숫자', '', '참, 거짓', '열거형', '집합', '','', '사전'],\n",
    "    '타입' : ['정수', '실수','불','문자열','리스트', '튜플', '세트', '사전'],\n",
    "    '타입명' : ['int', 'float', 'bool', 'Str', 'list', 'tuple', 'set', 'dict'],\n",
    "    '리터럴 예시' : ['1, 4, 10', '3.156', 'True, False', '\\\"Hello World\\\"', '[10, 20, 30, 40]', '(1, 2, 3, 4)', '{3, 5, 9, 10}', '{\\'a\\':1, \\'b\\':2}']\n",
    "}\n",
    "\n",
    "pd.DataFrame(data)"
   ]
  },
  {
   "cell_type": "markdown",
   "metadata": {},
   "source": [
    "### 숫자형 타입 확인과 변경\n",
    "\n",
    "- type() 함수를 사용하여 데이터 타입 검사 가능"
   ]
  },
  {
   "cell_type": "code",
   "execution_count": 11,
   "metadata": {},
   "outputs": [
    {
     "name": "stdout",
     "output_type": "stream",
     "text": [
      "<class 'int'>\n",
      "<class 'float'>\n",
      "<class 'str'>\n",
      "<class 'bool'>\n"
     ]
    }
   ],
   "source": [
    "print(type(1))\n",
    "print(type(3.14))\n",
    "print(type(\"안녕\"))\n",
    "print(type(True))"
   ]
  },
  {
   "cell_type": "markdown",
   "metadata": {},
   "source": [
    "- type 변경"
   ]
  },
  {
   "cell_type": "code",
   "execution_count": 15,
   "metadata": {},
   "outputs": [
    {
     "name": "stdout",
     "output_type": "stream",
     "text": [
      "<class 'int'>\n",
      "type(float(a)) : <class 'float'>\n",
      "int(b) = 3\n",
      "type(int(b)) : <class 'int'>\n"
     ]
    }
   ],
   "source": [
    "a = 1\n",
    "print(type(a))\n",
    "print(f'type(float(a)) : {type(float(a))}')\n",
    "\n",
    "b = 3.99\n",
    "print(f'int(b) = {int(b)}')\n",
    "print(f'type(int(b)) : {type(int(b))}')"
   ]
  },
  {
   "cell_type": "markdown",
   "metadata": {},
   "source": [
    "## 집합형 자료구조\n",
    "\n",
    "- list\n",
    "    - 여러 가지 형태의 변수를 하나의 순서가 있는 배열로 묶어놓은 형태\n",
    "\n",
    "- tuple\n",
    "    - 조회만 가능하고 변경이 불가능한 리스트\n",
    "\n",
    "- set\n",
    "    - 순서가 없고 중복을 허용하지 않음\n",
    "\n",
    "- dictionary\n",
    "    - Key와 value 형태로 데이터를 저장함"
   ]
  },
  {
   "cell_type": "markdown",
   "metadata": {},
   "source": [
    "- list 규칙\n",
    "\n",
    "    - list는 다양한 type의 데이터를 집합으로 가집니다\n",
    "    - list 안에 list도 허용합니다.\n",
    "    - list는 순서의 개념이 존재합니다"
   ]
  },
  {
   "cell_type": "code",
   "execution_count": 19,
   "metadata": {},
   "outputs": [
    {
     "name": "stdout",
     "output_type": "stream",
     "text": [
      "[1, 3.14, 'hi', [6, 7, '8']]\n"
     ]
    }
   ],
   "source": [
    "a = []\n",
    "a = list()\n",
    "\n",
    "a = [1, 'hello', 3, 3.14, True]\n",
    "a = [1, 3.14, 'hi', [6, 7, '8']]\n",
    "print(a)"
   ]
  },
  {
   "cell_type": "markdown",
   "metadata": {},
   "source": [
    "#### list의 성질\n",
    "\n",
    "- append() : 값 추가\n",
    "    - append(value)  : 리스트의 맨 마지막에 value 추가"
   ]
  },
  {
   "cell_type": "code",
   "execution_count": 21,
   "metadata": {},
   "outputs": [
    {
     "name": "stdout",
     "output_type": "stream",
     "text": [
      "[3, 3, 3, 5]\n"
     ]
    }
   ],
   "source": [
    "mylist = list()\n",
    "for i in range(3):\n",
    "    mylist.append(3)\n",
    "\n",
    "mylist.append(5)\n",
    "print(mylist)"
   ]
  },
  {
   "cell_type": "markdown",
   "metadata": {},
   "source": [
    "- insert() : 값 추가\n",
    "    - insert(index, value) : index에 value 삽입"
   ]
  },
  {
   "cell_type": "code",
   "execution_count": 22,
   "metadata": {},
   "outputs": [
    {
     "data": {
      "text/plain": [
       "[3, 100, 3, 3, 5]"
      ]
     },
     "execution_count": 22,
     "metadata": {},
     "output_type": "execute_result"
    }
   ],
   "source": [
    "mylist.insert(1, 100)\n",
    "mylist"
   ]
  },
  {
   "cell_type": "markdown",
   "metadata": {},
   "source": [
    "- 삭제\n",
    "    - remove(value) : 첫번째로 나오는 value 삭제(index 빠른 순서)\n",
    "\n",
    "    - pop(index) : index 번째 요소를 반환 및 삭제"
   ]
  },
  {
   "cell_type": "code",
   "execution_count": 23,
   "metadata": {},
   "outputs": [
    {
     "data": {
      "text/plain": [
       "[100, 7, 7, 7, 7, 3, 5, 2]"
      ]
     },
     "execution_count": 23,
     "metadata": {},
     "output_type": "execute_result"
    }
   ],
   "source": [
    "mylist = [1, 100, 7, 7, 7, 7, 3, 5, 2]\n",
    "mylist.remove(1)\n",
    "mylist"
   ]
  },
  {
   "cell_type": "markdown",
   "metadata": {},
   "source": [
    "- pop(index)는 값을 저장함과 동시에 index에 있는 값을 삭제시킨다"
   ]
  },
  {
   "cell_type": "code",
   "execution_count": 25,
   "metadata": {},
   "outputs": [
    {
     "name": "stdout",
     "output_type": "stream",
     "text": [
      "100\n"
     ]
    },
    {
     "data": {
      "text/plain": [
       "[1, 7, 7, 7, 7, 3, 5, 2]"
      ]
     },
     "execution_count": 25,
     "metadata": {},
     "output_type": "execute_result"
    }
   ],
   "source": [
    "mylist = [1, 100, 7, 7, 7, 7, 3, 5, 2]\n",
    "print(mylist.pop(1))\n",
    "mylist"
   ]
  },
  {
   "cell_type": "markdown",
   "metadata": {},
   "source": [
    "- len() : 리스트의 크기\n",
    "    - len(list)"
   ]
  },
  {
   "cell_type": "code",
   "execution_count": 31,
   "metadata": {},
   "outputs": [
    {
     "name": "stdout",
     "output_type": "stream",
     "text": [
      "[10, 20, 30, 40, 50]\n"
     ]
    },
    {
     "data": {
      "text/plain": [
       "5"
      ]
     },
     "execution_count": 31,
     "metadata": {},
     "output_type": "execute_result"
    }
   ],
   "source": [
    "mylist = list(range(10, 60, 10))\n",
    "print(mylist)\n",
    "len(mylist)"
   ]
  },
  {
   "cell_type": "markdown",
   "metadata": {},
   "source": [
    "- 정렬\n",
    "    - *sort()* : 정렬\n",
    "    - *sort(reverse=True)* : 내림차순(descending) 정렬"
   ]
  },
  {
   "cell_type": "code",
   "execution_count": 41,
   "metadata": {},
   "outputs": [
    {
     "name": "stdout",
     "output_type": "stream",
     "text": [
      "[0, 10, 20, 30, 40, 50]\n"
     ]
    },
    {
     "data": {
      "text/plain": [
       "[50, 40, 30, 20, 10, 0]"
      ]
     },
     "execution_count": 41,
     "metadata": {},
     "output_type": "execute_result"
    }
   ],
   "source": [
    "mylist = list(range(0, 60, 10))\n",
    "print(mylist)\n",
    "\n",
    "mylist.sort(reverse=True)\n",
    "mylist"
   ]
  },
  {
   "cell_type": "markdown",
   "metadata": {},
   "source": [
    "- *extend()* : 리스트 확장"
   ]
  },
  {
   "cell_type": "code",
   "execution_count": 42,
   "metadata": {},
   "outputs": [
    {
     "name": "stdout",
     "output_type": "stream",
     "text": [
      "[1, 2, 3]\n",
      "[1, 2, 3, 4, 5]\n"
     ]
    }
   ],
   "source": [
    "a = [1, 2, 3]\n",
    "print(a)\n",
    "a.extend([4, 5])\n",
    "print(a)"
   ]
  },
  {
   "cell_type": "markdown",
   "metadata": {},
   "source": [
    "- 색인(index)\n",
    "\n",
    "    - mylist = [1,2,3,4]"
   ]
  },
  {
   "cell_type": "code",
   "execution_count": 43,
   "metadata": {},
   "outputs": [
    {
     "name": "stdout",
     "output_type": "stream",
     "text": [
      "50\n",
      "20\n",
      "0\n",
      "20\n"
     ]
    }
   ],
   "source": [
    "print(mylist[0])\n",
    "print(mylist[3])\n",
    "# print(mylist[4])\n",
    "print(mylist[-1])\n",
    "print(mylist[-3])\n",
    "# print(mylist[-5])"
   ]
  },
  {
   "cell_type": "markdown",
   "metadata": {},
   "source": [
    "- 리스트 색인하여 값 수정"
   ]
  },
  {
   "cell_type": "code",
   "execution_count": 46,
   "metadata": {},
   "outputs": [
    {
     "name": "stdout",
     "output_type": "stream",
     "text": [
      "[100, 40, 30, 20, 10, 0]\n",
      "[100, 40, 30, 20, 10, 0]\n",
      "[100, 40, 30, 20, 10, 300]\n"
     ]
    }
   ],
   "source": [
    "print(mylist)\n",
    "mylist[0] = 100\n",
    "print(mylist)\n",
    "mylist[-1] = 300\n",
    "print(mylist)"
   ]
  },
  {
   "cell_type": "markdown",
   "metadata": {},
   "source": [
    "- 중첩 리스트 색인"
   ]
  },
  {
   "cell_type": "code",
   "execution_count": 48,
   "metadata": {},
   "outputs": [
    {
     "name": "stdout",
     "output_type": "stream",
     "text": [
      "[[1, 2, 3], [4, 5, 6], [7, 8, 9]]\n",
      "[4, 5, 6]\n",
      "5\n"
     ]
    }
   ],
   "source": [
    "mylist = [[1,2,3], [4,5,6], [7,8,9]]\n",
    "print(mylist)\n",
    "\n",
    "print(mylist[1])\n",
    "print(mylist[1][1])"
   ]
  },
  {
   "cell_type": "markdown",
   "metadata": {},
   "source": [
    "- slicing : 추출"
   ]
  },
  {
   "cell_type": "code",
   "execution_count": null,
   "metadata": {},
   "outputs": [],
   "source": []
  }
 ],
 "metadata": {
  "kernelspec": {
   "display_name": "Python 3",
   "language": "python",
   "name": "python3"
  },
  "language_info": {
   "codemirror_mode": {
    "name": "ipython",
    "version": 3
   },
   "file_extension": ".py",
   "mimetype": "text/x-python",
   "name": "python",
   "nbconvert_exporter": "python",
   "pygments_lexer": "ipython3",
   "version": "3.12.3"
  }
 },
 "nbformat": 4,
 "nbformat_minor": 2
}
