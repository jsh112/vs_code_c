{
 "cells": [
  {
   "cell_type": "markdown",
   "metadata": {},
   "source": [
    "## 단원별 심화 연습 문제"
   ]
  },
  {
   "cell_type": "code",
   "execution_count": 1,
   "metadata": {},
   "outputs": [],
   "source": [
    "import numpy as np\n",
    "import pandas as pd\n",
    "import seaborn as sns\n",
    "import matplotlib.pyplot as plt\n",
    "import glob\n",
    "\n",
    "pd.options.display.float_format = '{:,.1f}'.format"
   ]
  },
  {
   "cell_type": "markdown",
   "metadata": {},
   "source": [
    "### Q6\n",
    "\n",
    "**범위**\n",
    "- (이전 범위 포함)\n",
    "- 시각화"
   ]
  },
  {
   "cell_type": "markdown",
   "metadata": {},
   "source": [
    "`rental.csv` 파일을 로드하여 다음의 지시사항에 맞는 시각화 그래프를 생성하고 출력합니다.\n",
    "\n",
    "* **date** - 시간. 연-월-일 시:분:초 로 표현합니다. (가령 2011-01-01 00:00:00은 2011년 1월 1일 0시 0분 0초)\n",
    "* **businessday** - 근무일. 1이면 근무일이며, 0이면 근무일이 아닙니다.\n",
    "* **holiday** - 공휴일. 1이면 공휴일이며, 0이면 공휴일이 아닙니다.\n",
    "* **season** - 계절. 봄, 여름, 가을, 겨울 순으로 표현합니다.\n",
    "* **weather** - 날씨. 1 ~ 4 사이의 값을 가지며, 구체적으로는 다음과 같습니다.\n",
    "    * 1: 맑은 날씨\n",
    "    * 2: 약간의 안개와 구름이 끼어있는 날씨\n",
    "    * 3: 약간의 눈, 비가 오거나 천둥\n",
    "    * 4: 아주 많은 비가 오거나 우박\n",
    "* **humid** - 습도\n",
    "* **wind** - 풍속\n",
    "* **temp** - 온도\n",
    "* **sense_temp** - 체감 온도\n",
    "* **onetime** - 비회원의 공유킥보드 대여량.\n",
    "* **membership** - 멤버십에 가입한 회원의 공유킥보드 대여량.\n",
    "* **count** - 총 공유킥보드 대여랑. 비회원(onetime)과 멤버십 회원(membership)이 대여한 총 공유킥보드 대여량"
   ]
  },
  {
   "cell_type": "code",
   "execution_count": null,
   "metadata": {},
   "outputs": [],
   "source": []
  }
 ],
 "metadata": {
  "kernelspec": {
   "display_name": "Python 3",
   "language": "python",
   "name": "python3"
  },
  "language_info": {
   "codemirror_mode": {
    "name": "ipython",
    "version": 3
   },
   "file_extension": ".py",
   "mimetype": "text/x-python",
   "name": "python",
   "nbconvert_exporter": "python",
   "pygments_lexer": "ipython3",
   "version": "3.12.3"
  }
 },
 "nbformat": 4,
 "nbformat_minor": 2
}
