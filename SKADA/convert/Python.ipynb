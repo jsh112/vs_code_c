{
 "cells": [
  {
   "cell_type": "markdown",
   "metadata": {},
   "source": [
    "## Data Structure"
   ]
  },
  {
   "cell_type": "markdown",
   "metadata": {},
   "source": [
    "### print (기본 입출력)\n",
    "\n",
    "- print(value, sep='', end='\\n', ...)\n",
    "\n",
    "    - value를 출력\n",
    "    - sep : 출력되는 value들 사이 분리 기호\n",
    "    - end : 출력 문자열 마지막 문자\n",
    "        - 기본값('\\n')"
   ]
  },
  {
   "cell_type": "code",
   "execution_count": 145,
   "metadata": {},
   "outputs": [
    {
     "name": "stdout",
     "output_type": "stream",
     "text": [
      "오늘 파이썬 배우기 좋은 날이네!\n",
      "오늘은 일요일+\n",
      "오늘은 일요일\n"
     ]
    }
   ],
   "source": [
    "print('오늘 파이썬 배우기 좋은 날이네!')\n",
    "print('오늘은', '일요일', end='+')\n",
    "print('\\n오늘은', '일요일')"
   ]
  },
  {
   "cell_type": "markdown",
   "metadata": {},
   "source": [
    "### 변수\n",
    "\n",
    "- 변수란 자료형의 값을 저장하는 공간\n",
    "- 변수명 = 변수에 저장할 값\n",
    "- 변수의 타입 확인 : type()"
   ]
  },
  {
   "cell_type": "code",
   "execution_count": 146,
   "metadata": {},
   "outputs": [
    {
     "data": {
      "text/html": [
       "<div>\n",
       "<style scoped>\n",
       "    .dataframe tbody tr th:only-of-type {\n",
       "        vertical-align: middle;\n",
       "    }\n",
       "\n",
       "    .dataframe tbody tr th {\n",
       "        vertical-align: top;\n",
       "    }\n",
       "\n",
       "    .dataframe thead th {\n",
       "        text-align: right;\n",
       "    }\n",
       "</style>\n",
       "<table border=\"1\" class=\"dataframe\">\n",
       "  <thead>\n",
       "    <tr style=\"text-align: right;\">\n",
       "      <th></th>\n",
       "      <th>분류</th>\n",
       "      <th>타입</th>\n",
       "      <th>타입명</th>\n",
       "      <th>리터럴 예시</th>\n",
       "    </tr>\n",
       "  </thead>\n",
       "  <tbody>\n",
       "    <tr>\n",
       "      <th>0</th>\n",
       "      <td>숫자</td>\n",
       "      <td>정수</td>\n",
       "      <td>int</td>\n",
       "      <td>1, 4, 10</td>\n",
       "    </tr>\n",
       "    <tr>\n",
       "      <th>1</th>\n",
       "      <td></td>\n",
       "      <td>실수</td>\n",
       "      <td>float</td>\n",
       "      <td>3.156</td>\n",
       "    </tr>\n",
       "    <tr>\n",
       "      <th>2</th>\n",
       "      <td>참, 거짓</td>\n",
       "      <td>불</td>\n",
       "      <td>bool</td>\n",
       "      <td>True, False</td>\n",
       "    </tr>\n",
       "    <tr>\n",
       "      <th>3</th>\n",
       "      <td>열거형</td>\n",
       "      <td>문자열</td>\n",
       "      <td>Str</td>\n",
       "      <td>\"Hello World\"</td>\n",
       "    </tr>\n",
       "    <tr>\n",
       "      <th>4</th>\n",
       "      <td>집합</td>\n",
       "      <td>리스트</td>\n",
       "      <td>list</td>\n",
       "      <td>[10, 20, 30, 40]</td>\n",
       "    </tr>\n",
       "    <tr>\n",
       "      <th>5</th>\n",
       "      <td></td>\n",
       "      <td>튜플</td>\n",
       "      <td>tuple</td>\n",
       "      <td>(1, 2, 3, 4)</td>\n",
       "    </tr>\n",
       "    <tr>\n",
       "      <th>6</th>\n",
       "      <td></td>\n",
       "      <td>세트</td>\n",
       "      <td>set</td>\n",
       "      <td>{3, 5, 9, 10}</td>\n",
       "    </tr>\n",
       "    <tr>\n",
       "      <th>7</th>\n",
       "      <td>사전</td>\n",
       "      <td>사전</td>\n",
       "      <td>dict</td>\n",
       "      <td>{'a':1, 'b':2}</td>\n",
       "    </tr>\n",
       "  </tbody>\n",
       "</table>\n",
       "</div>"
      ],
      "text/plain": [
       "      분류   타입    타입명            리터럴 예시\n",
       "0     숫자   정수    int          1, 4, 10\n",
       "1          실수  float             3.156\n",
       "2  참, 거짓    불   bool       True, False\n",
       "3    열거형  문자열    Str     \"Hello World\"\n",
       "4     집합  리스트   list  [10, 20, 30, 40]\n",
       "5          튜플  tuple      (1, 2, 3, 4)\n",
       "6          세트    set     {3, 5, 9, 10}\n",
       "7     사전   사전   dict    {'a':1, 'b':2}"
      ]
     },
     "execution_count": 146,
     "metadata": {},
     "output_type": "execute_result"
    }
   ],
   "source": [
    "import pandas as pd\n",
    "import numpy as np\n",
    "\n",
    "data = {\n",
    "    '분류' : ['숫자', '', '참, 거짓', '열거형', '집합', '','', '사전'],\n",
    "    '타입' : ['정수', '실수','불','문자열','리스트', '튜플', '세트', '사전'],\n",
    "    '타입명' : ['int', 'float', 'bool', 'Str', 'list', 'tuple', 'set', 'dict'],\n",
    "    '리터럴 예시' : ['1, 4, 10', '3.156', 'True, False', '\\\"Hello World\\\"', '[10, 20, 30, 40]', '(1, 2, 3, 4)', '{3, 5, 9, 10}', '{\\'a\\':1, \\'b\\':2}']\n",
    "}\n",
    "\n",
    "pd.DataFrame(data)"
   ]
  },
  {
   "cell_type": "markdown",
   "metadata": {},
   "source": [
    "### 숫자형 타입 확인과 변경\n",
    "\n",
    "- type() 함수를 사용하여 데이터 타입 검사 가능"
   ]
  },
  {
   "cell_type": "code",
   "execution_count": 147,
   "metadata": {},
   "outputs": [
    {
     "name": "stdout",
     "output_type": "stream",
     "text": [
      "<class 'int'>\n",
      "<class 'float'>\n",
      "<class 'str'>\n",
      "<class 'bool'>\n"
     ]
    }
   ],
   "source": [
    "print(type(1))\n",
    "print(type(3.14))\n",
    "print(type(\"안녕\"))\n",
    "print(type(True))"
   ]
  },
  {
   "cell_type": "markdown",
   "metadata": {},
   "source": [
    "- type 변경"
   ]
  },
  {
   "cell_type": "code",
   "execution_count": 148,
   "metadata": {},
   "outputs": [
    {
     "name": "stdout",
     "output_type": "stream",
     "text": [
      "<class 'int'>\n",
      "type(float(a)) : <class 'float'>\n",
      "int(b) = 3\n",
      "type(int(b)) : <class 'int'>\n"
     ]
    }
   ],
   "source": [
    "a = 1\n",
    "print(type(a))\n",
    "print(f'type(float(a)) : {type(float(a))}')\n",
    "\n",
    "b = 3.99\n",
    "print(f'int(b) = {int(b)}')\n",
    "print(f'type(int(b)) : {type(int(b))}')"
   ]
  },
  {
   "cell_type": "markdown",
   "metadata": {},
   "source": [
    "## 집합형 자료구조\n",
    "\n",
    "- list\n",
    "    - 여러 가지 형태의 변수를 하나의 순서가 있는 배열로 묶어놓은 형태\n",
    "\n",
    "- tuple\n",
    "    - 조회만 가능하고 변경이 불가능한 리스트\n",
    "\n",
    "- set\n",
    "    - 순서가 없고 중복을 허용하지 않음\n",
    "\n",
    "- dictionary\n",
    "    - Key와 value 형태로 데이터를 저장함"
   ]
  },
  {
   "cell_type": "markdown",
   "metadata": {},
   "source": [
    "- list 규칙\n",
    "\n",
    "    - list는 다양한 type의 데이터를 집합으로 가집니다\n",
    "    - list 안에 list도 허용합니다.\n",
    "    - list는 순서의 개념이 존재합니다"
   ]
  },
  {
   "cell_type": "code",
   "execution_count": 149,
   "metadata": {},
   "outputs": [
    {
     "name": "stdout",
     "output_type": "stream",
     "text": [
      "[1, 3.14, 'hi', [6, 7, '8']]\n"
     ]
    }
   ],
   "source": [
    "a = []\n",
    "a = list()\n",
    "\n",
    "a = [1, 'hello', 3, 3.14, True]\n",
    "a = [1, 3.14, 'hi', [6, 7, '8']]\n",
    "print(a)"
   ]
  },
  {
   "cell_type": "markdown",
   "metadata": {},
   "source": [
    "#### list의 성질\n",
    "\n",
    "- append() : 값 추가\n",
    "    - append(value)  : 리스트의 맨 마지막에 value 추가"
   ]
  },
  {
   "cell_type": "code",
   "execution_count": 150,
   "metadata": {},
   "outputs": [
    {
     "name": "stdout",
     "output_type": "stream",
     "text": [
      "[3, 3, 3, 5]\n"
     ]
    }
   ],
   "source": [
    "mylist = list()\n",
    "for i in range(3):\n",
    "    mylist.append(3)\n",
    "\n",
    "mylist.append(5)\n",
    "print(mylist)"
   ]
  },
  {
   "cell_type": "markdown",
   "metadata": {},
   "source": [
    "- insert() : 값 추가\n",
    "    - insert(index, value) : index에 value 삽입"
   ]
  },
  {
   "cell_type": "code",
   "execution_count": 151,
   "metadata": {},
   "outputs": [
    {
     "data": {
      "text/plain": [
       "[3, 100, 3, 3, 5]"
      ]
     },
     "execution_count": 151,
     "metadata": {},
     "output_type": "execute_result"
    }
   ],
   "source": [
    "mylist.insert(1, 100)\n",
    "mylist"
   ]
  },
  {
   "cell_type": "markdown",
   "metadata": {},
   "source": [
    "- 삭제\n",
    "    - remove(value) : 첫번째로 나오는 value 삭제(index 빠른 순서)\n",
    "\n",
    "    - pop(index) : index 번째 요소를 반환 및 삭제"
   ]
  },
  {
   "cell_type": "code",
   "execution_count": 152,
   "metadata": {},
   "outputs": [
    {
     "data": {
      "text/plain": [
       "[100, 7, 7, 7, 7, 3, 5, 2]"
      ]
     },
     "execution_count": 152,
     "metadata": {},
     "output_type": "execute_result"
    }
   ],
   "source": [
    "mylist = [1, 100, 7, 7, 7, 7, 3, 5, 2]\n",
    "mylist.remove(1)\n",
    "mylist"
   ]
  },
  {
   "cell_type": "markdown",
   "metadata": {},
   "source": [
    "- pop(index)는 값을 저장함과 동시에 index에 있는 값을 삭제시킨다"
   ]
  },
  {
   "cell_type": "code",
   "execution_count": 153,
   "metadata": {},
   "outputs": [
    {
     "name": "stdout",
     "output_type": "stream",
     "text": [
      "100\n"
     ]
    },
    {
     "data": {
      "text/plain": [
       "[1, 7, 7, 7, 7, 3, 5, 2]"
      ]
     },
     "execution_count": 153,
     "metadata": {},
     "output_type": "execute_result"
    }
   ],
   "source": [
    "mylist = [1, 100, 7, 7, 7, 7, 3, 5, 2]\n",
    "print(mylist.pop(1))\n",
    "mylist"
   ]
  },
  {
   "cell_type": "markdown",
   "metadata": {},
   "source": [
    "- len() : 리스트의 크기\n",
    "    - len(list)"
   ]
  },
  {
   "cell_type": "code",
   "execution_count": 154,
   "metadata": {},
   "outputs": [
    {
     "name": "stdout",
     "output_type": "stream",
     "text": [
      "[10, 20, 30, 40, 50]\n"
     ]
    },
    {
     "data": {
      "text/plain": [
       "5"
      ]
     },
     "execution_count": 154,
     "metadata": {},
     "output_type": "execute_result"
    }
   ],
   "source": [
    "mylist = list(range(10, 60, 10))\n",
    "print(mylist)\n",
    "len(mylist)"
   ]
  },
  {
   "cell_type": "markdown",
   "metadata": {},
   "source": [
    "- 정렬\n",
    "    - *sort()* : 정렬\n",
    "    - *sort(reverse=True)* : 내림차순(descending) 정렬"
   ]
  },
  {
   "cell_type": "code",
   "execution_count": 155,
   "metadata": {},
   "outputs": [
    {
     "name": "stdout",
     "output_type": "stream",
     "text": [
      "[0, 10, 20, 30, 40, 50]\n"
     ]
    },
    {
     "data": {
      "text/plain": [
       "[50, 40, 30, 20, 10, 0]"
      ]
     },
     "execution_count": 155,
     "metadata": {},
     "output_type": "execute_result"
    }
   ],
   "source": [
    "mylist = list(range(0, 60, 10))\n",
    "print(mylist)\n",
    "\n",
    "mylist.sort(reverse=True)\n",
    "mylist"
   ]
  },
  {
   "cell_type": "markdown",
   "metadata": {},
   "source": [
    "- *extend()* : 리스트 확장"
   ]
  },
  {
   "cell_type": "code",
   "execution_count": 156,
   "metadata": {},
   "outputs": [
    {
     "name": "stdout",
     "output_type": "stream",
     "text": [
      "[1, 2, 3]\n",
      "[1, 2, 3, 4, 5]\n"
     ]
    }
   ],
   "source": [
    "a = [1, 2, 3]\n",
    "print(a)\n",
    "a.extend([4, 5])\n",
    "print(a)"
   ]
  },
  {
   "cell_type": "markdown",
   "metadata": {},
   "source": [
    "- 색인(index)\n",
    "\n",
    "    - mylist = [1,2,3,4]"
   ]
  },
  {
   "cell_type": "code",
   "execution_count": 157,
   "metadata": {},
   "outputs": [
    {
     "name": "stdout",
     "output_type": "stream",
     "text": [
      "50\n",
      "20\n",
      "0\n",
      "20\n"
     ]
    }
   ],
   "source": [
    "print(mylist[0])\n",
    "print(mylist[3])\n",
    "# print(mylist[4])\n",
    "print(mylist[-1])\n",
    "print(mylist[-3])\n",
    "# print(mylist[-5])"
   ]
  },
  {
   "cell_type": "markdown",
   "metadata": {},
   "source": [
    "- 리스트 색인하여 값 수정"
   ]
  },
  {
   "cell_type": "code",
   "execution_count": 158,
   "metadata": {},
   "outputs": [
    {
     "name": "stdout",
     "output_type": "stream",
     "text": [
      "[50, 40, 30, 20, 10, 0]\n",
      "[100, 40, 30, 20, 10, 0]\n",
      "[100, 40, 30, 20, 10, 300]\n"
     ]
    }
   ],
   "source": [
    "print(mylist)\n",
    "mylist[0] = 100\n",
    "print(mylist)\n",
    "mylist[-1] = 300\n",
    "print(mylist)"
   ]
  },
  {
   "cell_type": "markdown",
   "metadata": {},
   "source": [
    "- 중첩 리스트 색인"
   ]
  },
  {
   "cell_type": "code",
   "execution_count": 159,
   "metadata": {},
   "outputs": [
    {
     "name": "stdout",
     "output_type": "stream",
     "text": [
      "[[1, 2, 3], [4, 5, 6], [7, 8, 9]]\n",
      "[4, 5, 6]\n",
      "5\n"
     ]
    }
   ],
   "source": [
    "mylist = [[1,2,3], [4,5,6], [7,8,9]]\n",
    "print(mylist)\n",
    "\n",
    "print(mylist[1])\n",
    "print(mylist[1][1])"
   ]
  },
  {
   "cell_type": "markdown",
   "metadata": {},
   "source": [
    "- slicing : 추출"
   ]
  },
  {
   "cell_type": "code",
   "execution_count": 160,
   "metadata": {},
   "outputs": [
    {
     "name": "stdout",
     "output_type": "stream",
     "text": [
      "[100, 200, 300, 400, 500]\n",
      "[100, 200, 300]\n",
      "[300, 400]\n",
      "[300, 400, 500]\n",
      "[300, 400, 500]\n",
      "[500, 400, 300, 200, 100]\n",
      "[100, 300, 500]\n",
      "[200, 400]\n",
      "[400, 300]\n"
     ]
    }
   ],
   "source": [
    "mylist = list(range(100, 600, 100))\n",
    "print(mylist)\n",
    "\n",
    "print(mylist[:3])\n",
    "print(mylist[-3: -1])\n",
    "print(mylist[2:])\n",
    "print(mylist[-3:])\n",
    "\n",
    "print(mylist[::-1])\n",
    "print(mylist[::2])\n",
    "print(mylist[1::2])\n",
    "print(mylist[3:1:-1])"
   ]
  },
  {
   "cell_type": "markdown",
   "metadata": {},
   "source": [
    "### tuple의 성질\n",
    "\n",
    "- 데이터 변경이 불가능\n",
    "\n",
    "- 튜플은 소괄호로 둘러싸임\n",
    "\n",
    "- 튜플의 생성\n",
    "\n",
    "    - mytuple = (1, 2, 3) or 1, 2, 3\n",
    "\n",
    "- 리스트는 값의 추가, 수정 삭제 가능 튜플은 불가\n",
    "\n",
    "- 튜플의 인덱싱과 슬라이싱은 리스트와 동일\n",
    "\n",
    "- 값 수정이 필요 없을 경우 튜플을 사용하는 것이 더 효과적 (C언어의 const와 비슷함)"
   ]
  },
  {
   "cell_type": "markdown",
   "metadata": {},
   "source": [
    "### set의 성질\n",
    "\n",
    "- set는 중괄호 안에 쉼표들로 값들을 구분\n",
    "\n",
    "- **중복을 허용하지 않으며** 순서가 없음"
   ]
  },
  {
   "cell_type": "code",
   "execution_count": 161,
   "metadata": {},
   "outputs": [
    {
     "name": "stdout",
     "output_type": "stream",
     "text": [
      "{1, 2, 3}\n"
     ]
    }
   ],
   "source": [
    "myset = set()\n",
    "myset = set([1,1,1,1,2,2,2,3,3,3])\n",
    "print(myset)"
   ]
  },
  {
   "cell_type": "markdown",
   "metadata": {},
   "source": [
    "- add(value) : 값 추가"
   ]
  },
  {
   "cell_type": "code",
   "execution_count": 162,
   "metadata": {},
   "outputs": [
    {
     "name": "stdout",
     "output_type": "stream",
     "text": [
      "set()\n",
      "{1}\n",
      "{1, 7}\n"
     ]
    }
   ],
   "source": [
    "myset = set()\n",
    "print(myset)\n",
    "\n",
    "myset.add(1)\n",
    "print(myset)\n",
    "\n",
    "for i in range(1,5):\n",
    "    myset.add(7)\n",
    "print(myset)"
   ]
  },
  {
   "cell_type": "markdown",
   "metadata": {},
   "source": [
    "- update(set) : 여러개 값 일괄 추가"
   ]
  },
  {
   "cell_type": "code",
   "execution_count": 163,
   "metadata": {},
   "outputs": [
    {
     "name": "stdout",
     "output_type": "stream",
     "text": [
      "{1, 7}\n",
      "{1, 3, 5, 7, 9}\n"
     ]
    }
   ],
   "source": [
    "print(myset)\n",
    "myset.update([1, 3, 5, 7, 9])\n",
    "print(myset)"
   ]
  },
  {
   "cell_type": "markdown",
   "metadata": {},
   "source": [
    "- 값 제거 : remove(value)"
   ]
  },
  {
   "cell_type": "code",
   "execution_count": 164,
   "metadata": {},
   "outputs": [
    {
     "name": "stdout",
     "output_type": "stream",
     "text": [
      "{1, 3, 5, 7, 9}\n",
      "{3, 5, 7, 9}\n"
     ]
    }
   ],
   "source": [
    "print(myset)\n",
    "myset.remove(1)\n",
    "print(myset)"
   ]
  },
  {
   "cell_type": "markdown",
   "metadata": {},
   "source": [
    "- 세트는 집합이므로 intersection, union, difference를 모두 가짐"
   ]
  },
  {
   "cell_type": "code",
   "execution_count": 165,
   "metadata": {},
   "outputs": [
    {
     "name": "stdout",
     "output_type": "stream",
     "text": [
      "{3, 4, 5}\n",
      "{3, 4, 5}\n",
      "{1, 2, 3, 4, 5, 6, 7}\n",
      "{1, 2, 3, 4, 5, 6, 7}\n",
      "{1, 2}\n",
      "{1, 2}\n"
     ]
    }
   ],
   "source": [
    "a = {1,2,3,4,5}\n",
    "b = {3,4,5,6,7}\n",
    "\n",
    "print(a&b)\n",
    "print(a.intersection(b))\n",
    "print(a|b)\n",
    "print(a.union(b))\n",
    "print(a-b)\n",
    "print(a.difference(b))"
   ]
  },
  {
   "cell_type": "markdown",
   "metadata": {},
   "source": [
    "### Dictionary의 성질\n",
    "\n",
    "- 딕셔너리는 key와 value의 쌍 여러개와 {}로 구성되어있음\n",
    "\n",
    "- key를 통해 value를 얻음\n",
    "\n",
    "- 순서가 없고, key 값은 **고유한 값**이어야 함\n",
    "\n",
    "- type은 dict로 표시, 공 딕셔너리도 dict()로 만듦\n",
    "\n",
    "- keys() : 모든 키 조회\n",
    "\n",
    "- vaues() : 모든 value 조회\n",
    "\n",
    "- items() : key, value 모두 조회"
   ]
  },
  {
   "cell_type": "code",
   "execution_count": 166,
   "metadata": {},
   "outputs": [
    {
     "name": "stdout",
     "output_type": "stream",
     "text": [
      "{'a': 1, 'b': 2}\n",
      "dict_keys(['a', 'b'])\n",
      "dict_values([1, 2])\n",
      "dict_items([('a', 1), ('b', 2)])\n"
     ]
    }
   ],
   "source": [
    "mydict = {'a' : 1, 'b': 2}\n",
    "print(mydict)\n",
    "\n",
    "print(mydict.keys())\n",
    "print(mydict.values())\n",
    "print(mydict.items())"
   ]
  },
  {
   "cell_type": "markdown",
   "metadata": {},
   "source": [
    "- 값 추가"
   ]
  },
  {
   "cell_type": "code",
   "execution_count": 167,
   "metadata": {},
   "outputs": [
    {
     "data": {
      "text/plain": [
       "{'apple': 5, 0: 2}"
      ]
     },
     "execution_count": 167,
     "metadata": {},
     "output_type": "execute_result"
    }
   ],
   "source": [
    "mydict = dict()\n",
    "mydict['apple'] = 5\n",
    "mydict[0] = 2\n",
    "mydict"
   ]
  },
  {
   "cell_type": "markdown",
   "metadata": {},
   "source": [
    "- update(dictionary) : 다중 업데이트"
   ]
  },
  {
   "cell_type": "code",
   "execution_count": 168,
   "metadata": {},
   "outputs": [
    {
     "name": "stdout",
     "output_type": "stream",
     "text": [
      "{'파인애플': 1500, '망고': 3500}\n",
      "{'파인애플': 1500, '망고': 3500, '사과': 500, '수박': 2500}\n"
     ]
    }
   ],
   "source": [
    "mydict = { '파인애플' : 1500, '망고' : 3500}\n",
    "print(mydict)\n",
    "\n",
    "fruit = {\n",
    "    '사과' : 500,\n",
    "    '수박' : 2500\n",
    "}\n",
    "mydict.update(fruit)\n",
    "print(mydict)"
   ]
  },
  {
   "cell_type": "markdown",
   "metadata": {},
   "source": [
    "- 값 변경 : key에 새로운 value 대입"
   ]
  },
  {
   "cell_type": "code",
   "execution_count": 169,
   "metadata": {},
   "outputs": [
    {
     "name": "stdout",
     "output_type": "stream",
     "text": [
      "{'a': 100, 'b': 200, 'c': 300}\n",
      "{'a': 900, 'b': 200, 'c': 300}\n"
     ]
    }
   ],
   "source": [
    "mydict = {'a' : 100, 'b':200, 'c' : 300}\n",
    "print(mydict)\n",
    "\n",
    "mydict['a'] = 900\n",
    "print(mydict)\n"
   ]
  },
  {
   "cell_type": "markdown",
   "metadata": {},
   "source": [
    "- pop() : 요소 제거"
   ]
  },
  {
   "cell_type": "code",
   "execution_count": 170,
   "metadata": {},
   "outputs": [
    {
     "name": "stdout",
     "output_type": "stream",
     "text": [
      "{'a': 900, 'b': 200, 'c': 300}\n",
      "{'b': 200, 'c': 300}\n"
     ]
    }
   ],
   "source": [
    "print(mydict)\n",
    "mydict.pop('a')\n",
    "print(mydict)"
   ]
  },
  {
   "cell_type": "markdown",
   "metadata": {},
   "source": [
    "### 문자열(str)\n",
    "\n",
    "- 데이터 분석에 있어서 문자열 데이터의 중요성\n",
    "- 자연어처리 데이터는 대부분 텍스트 데이터\n",
    "- 우리가 흔히 접하는 Excel, table 데이터안에도 텍스트 데이터가 많음\n",
    "- 한국은 영어와 한국어도 처리할 수 있어야함\n",
    "\n",
    "**특성**\n",
    "- 문자열은 리스트, 튜플과 마찬가지로 순차형 구조를 가짐\n",
    "- 문자열은 불변(immutable) object입니다."
   ]
  },
  {
   "cell_type": "markdown",
   "metadata": {},
   "source": [
    "- 문자열 생성\n",
    "    - 큰따옴표\n",
    "    - 작은 따옴표"
   ]
  },
  {
   "cell_type": "markdown",
   "metadata": {},
   "source": [
    "- 문자열 만들기\n",
    "    - 큰 따옴표, 작은따옴표를 연속 3개로 사용\n",
    "    - 여러줄 표현할 때"
   ]
  },
  {
   "cell_type": "code",
   "execution_count": 171,
   "metadata": {},
   "outputs": [
    {
     "name": "stdout",
     "output_type": "stream",
     "text": [
      "\n",
      "      안녕하세요?\n",
      "      반갑습니다\n",
      "      웰컴!\n",
      "      \n",
      "      \n"
     ]
    }
   ],
   "source": [
    "print(\"\"\"\n",
    "      안녕하세요?\n",
    "      반갑습니다\n",
    "      웰컴!\n",
    "      \n",
    "      \"\"\")"
   ]
  },
  {
   "cell_type": "markdown",
   "metadata": {},
   "source": [
    "### 문자열 포맷팅\n",
    "    - %"
   ]
  },
  {
   "cell_type": "code",
   "execution_count": 172,
   "metadata": {},
   "outputs": [
    {
     "name": "stdout",
     "output_type": "stream",
     "text": [
      "안녕하세요 반갑습니다.\n",
      "안녕하세요 0.123\n",
      "안녕하세요 1234\n",
      "안녕하세요 a\n"
     ]
    }
   ],
   "source": [
    "print('안녕하세요 %s' % ('반갑습니다.'))\n",
    "print('안녕하세요 %.3f' % (0.1234))\n",
    "print('안녕하세요 %d' % (1234))\n",
    "print('안녕하세요 %c' % ('a'))"
   ]
  },
  {
   "cell_type": "markdown",
   "metadata": {},
   "source": [
    "- {}와 .format()"
   ]
  },
  {
   "cell_type": "code",
   "execution_count": 173,
   "metadata": {},
   "outputs": [
    {
     "name": "stdout",
     "output_type": "stream",
     "text": [
      "welcome to python 파이썬.\n",
      "welcome to python 485\n",
      "pi is 3.14\n"
     ]
    }
   ],
   "source": [
    "print('welcome to python {}'.format('파이썬.'))\n",
    "print('welcome to python {}'.format(485))\n",
    "print('pi is {:.2f}'.format(3.141592))"
   ]
  },
  {
   "cell_type": "markdown",
   "metadata": {},
   "source": [
    "- f 문자열 포맷팅(python 3.6 이상)"
   ]
  },
  {
   "cell_type": "code",
   "execution_count": 174,
   "metadata": {},
   "outputs": [
    {
     "name": "stdout",
     "output_type": "stream",
     "text": [
      "나의 이름은 펭수이고 나이는 10입니다\n",
      "내년에는 11살입니다\n",
      "나의 이름은 peng이고, 나이는 10입니다\n"
     ]
    }
   ],
   "source": [
    "name = '펭수'\n",
    "age = 10\n",
    "print(f'나의 이름은 {name}이고 나이는 {age}입니다')\n",
    "print(f'내년에는 {age+1}살입니다')\n",
    "\n",
    "# 딕셔너리 꼴로 사용\n",
    "d = {'name' : 'peng', 'age':10}\n",
    "print(f'나의 이름은 {d['name']}이고, 나이는 {d['age']}입니다')"
   ]
  },
  {
   "cell_type": "markdown",
   "metadata": {},
   "source": [
    "- 길이"
   ]
  },
  {
   "cell_type": "code",
   "execution_count": null,
   "metadata": {},
   "outputs": [
    {
     "data": {
      "text/plain": [
       "7"
      ]
     },
     "execution_count": 97,
     "metadata": {},
     "output_type": "execute_result"
    }
   ],
   "source": [
    "len('bananan')"
   ]
  },
  {
   "cell_type": "markdown",
   "metadata": {},
   "source": [
    "- 색인 & 슬라이싱 "
   ]
  },
  {
   "cell_type": "code",
   "execution_count": null,
   "metadata": {},
   "outputs": [
    {
     "name": "stdout",
     "output_type": "stream",
     "text": [
      "P\n",
      "Python\n",
      "hon\n"
     ]
    }
   ],
   "source": [
    "a = 'Python is my life'\n",
    "print(a[0])\n",
    "print(a[:6])\n",
    "print(a[3:6])"
   ]
  },
  {
   "cell_type": "markdown",
   "metadata": {},
   "source": [
    "- 결합과 반복"
   ]
  },
  {
   "cell_type": "code",
   "execution_count": null,
   "metadata": {},
   "outputs": [
    {
     "name": "stdout",
     "output_type": "stream",
     "text": [
      "반갑습니다웰컴 투 파이썬 \n",
      "반갑습니다???\n",
      "반갑습니다반갑습니다\n",
      " ===  ===  ===  ===  ===  ===  ===  ===  ===  === \n"
     ]
    }
   ],
   "source": [
    "a = '반갑습니다'\n",
    "b = '웰컴 투 파이썬 '\n",
    "print(a + b)\n",
    "print(a + '???')\n",
    "print(a * 2)\n",
    "print(' === ' * 10)"
   ]
  },
  {
   "cell_type": "markdown",
   "metadata": {},
   "source": [
    "- 분리"
   ]
  },
  {
   "cell_type": "code",
   "execution_count": null,
   "metadata": {},
   "outputs": [
    {
     "name": "stdout",
     "output_type": "stream",
     "text": [
      "['This', 'is', 'a', 'pen']\n",
      "['This', 'is', 'a', 'pen']\n",
      "['This', 'is', 'a', 'pen']\n"
     ]
    }
   ],
   "source": [
    "a = 'This is a pen'\n",
    "print(a.split(' '))\n",
    "print(a.split())\n",
    "b = 'This-is-a-pen'\n",
    "print(b.split('-'))"
   ]
  },
  {
   "cell_type": "markdown",
   "metadata": {},
   "source": [
    "- 합치기 : join()"
   ]
  },
  {
   "cell_type": "code",
   "execution_count": null,
   "metadata": {},
   "outputs": [
    {
     "name": "stdout",
     "output_type": "stream",
     "text": [
      "010-1234-5678\n",
      "A-B-C-D-E\n"
     ]
    }
   ],
   "source": [
    "print('-'.join(['010','1234','5678']))\n",
    "print('-'.join('ABCDE'))"
   ]
  },
  {
   "cell_type": "markdown",
   "metadata": {},
   "source": [
    "- 대문자, 소문자 (upper(), lower())\n",
    "- 바꾸기 : replace('str')\n",
    "- 공백제거 : strip()"
   ]
  },
  {
   "cell_type": "markdown",
   "metadata": {},
   "source": [
    "- 조건문\n",
    "\n",
    "모두 참인 조건인 경우 가장 첫번째 `참`인 구문을 실행"
   ]
  },
  {
   "cell_type": "code",
   "execution_count": null,
   "metadata": {},
   "outputs": [
    {
     "name": "stdout",
     "output_type": "stream",
     "text": [
      "if 구문\n"
     ]
    }
   ],
   "source": [
    "if 3 < 5:\n",
    "    print('if 구문')\n",
    "elif 3 < 4:\n",
    "    print('elif 1')\n",
    "elif 3 < 5:\n",
    "    print('elif 2')\n",
    "elif 3 < 6:\n",
    "    print('elif 3')\n",
    "else:\n",
    "    print('아무것도 아님')"
   ]
  },
  {
   "cell_type": "markdown",
   "metadata": {},
   "source": [
    "#### 삼항연산자\n",
    "\n",
    "- (참인 값) if 조건 else (거짓인 경우 값)"
   ]
  },
  {
   "cell_type": "code",
   "execution_count": null,
   "metadata": {},
   "outputs": [
    {
     "name": "stdout",
     "output_type": "stream",
     "text": [
      "30세 이상입니다.\n"
     ]
    }
   ],
   "source": [
    "age = 35\n",
    "print(\"30세 이상입니다.\" if age>=30 else \"30세 이하입니다.\")"
   ]
  },
  {
   "cell_type": "code",
   "execution_count": null,
   "metadata": {},
   "outputs": [
    {
     "name": "stdout",
     "output_type": "stream",
     "text": [
      "30세 이하입니다.\n"
     ]
    }
   ],
   "source": [
    "age = 25\n",
    "print(\"30세 이상입니다.\" if age>=30 else \"30세 이하입니다.\")"
   ]
  },
  {
   "cell_type": "markdown",
   "metadata": {},
   "source": [
    "### 반복문\n",
    "\n",
    "- 반복문이란\n",
    "    - 반복문은 프로그램 내에서 똑같은 명령을 일정 회수만큼 반복 수행하도록 제어하는 명령문\n",
    "    - 프로그램이 처리하는 대부분 코드는 반복적인 형태가 많으므로, 가장 많이 사용하는 제어 문 중 하나입니다.\n",
    "    - list, set, dict 등 집합에 대한 순회를 돌며 일을 처리할 때 많이 쓰임\n",
    "\n",
    "    - while과 for ~ in 문법을 가장 많이 씀"
   ]
  },
  {
   "cell_type": "markdown",
   "metadata": {},
   "source": [
    "- 기본구조\n",
    "\n",
    "    for <변수> in <iterable(list,tuple,str,...)>"
   ]
  },
  {
   "cell_type": "code",
   "execution_count": null,
   "metadata": {},
   "outputs": [
    {
     "name": "stdout",
     "output_type": "stream",
     "text": [
      "1\n",
      "2\n",
      "3\n",
      "4\n",
      "5\n"
     ]
    }
   ],
   "source": [
    "for i in (1,2,3,4,5):\n",
    "    print(i)"
   ]
  },
  {
   "cell_type": "markdown",
   "metadata": {},
   "source": [
    "- dictionary 반복문"
   ]
  },
  {
   "cell_type": "code",
   "execution_count": null,
   "metadata": {},
   "outputs": [
    {
     "name": "stdout",
     "output_type": "stream",
     "text": [
      "a\n",
      "b\n",
      "c\n",
      "\n",
      "\n",
      "1\n",
      "2\n",
      "3\n",
      "\n",
      "\n",
      "a 1\n",
      "b 2\n",
      "c 3\n"
     ]
    }
   ],
   "source": [
    "mydict = {'a':1, 'b':2, 'c':3}\n",
    "for key in mydict.keys():\n",
    "    print(key)\n",
    "print('\\n')    \n",
    "for value in mydict.values():\n",
    "    print(value)\n",
    "print('\\n')\n",
    "for key, value in mydict.items():\n",
    "    print(key, value)"
   ]
  },
  {
   "cell_type": "markdown",
   "metadata": {},
   "source": [
    "- range()\n",
    "    - 특정 범위의 정수를 표현할 때 사용\n",
    "    - 수정이 불가\n",
    "    - 생성방법\n",
    "        - range(start,stop,step)"
   ]
  },
  {
   "cell_type": "code",
   "execution_count": null,
   "metadata": {},
   "outputs": [
    {
     "name": "stdout",
     "output_type": "stream",
     "text": [
      "1\n",
      "3\n",
      "5\n",
      "7\n",
      "9\n"
     ]
    }
   ],
   "source": [
    "for i in range(1,10,2):\n",
    "    print(i)"
   ]
  },
  {
   "cell_type": "markdown",
   "metadata": {},
   "source": [
    "- for in 구문을 중첩 사용할 시\n",
    "\n",
    "    - for ~ in 문의 중첩"
   ]
  },
  {
   "cell_type": "code",
   "execution_count": null,
   "metadata": {},
   "outputs": [
    {
     "name": "stdout",
     "output_type": "stream",
     "text": [
      " (i = 1) + (j = 1) = 1\n",
      " (i = 1) + (j = 2) = 2\n",
      " (i = 1) + (j = 3) = 3\n",
      "===\n",
      " (i = 2) + (j = 1) = 2\n",
      " (i = 2) + (j = 2) = 4\n",
      " (i = 2) + (j = 3) = 6\n",
      "===\n",
      " (i = 3) + (j = 1) = 3\n",
      " (i = 3) + (j = 2) = 6\n",
      " (i = 3) + (j = 3) = 9\n",
      "===\n"
     ]
    }
   ],
   "source": [
    "for i in range(1, 4):\n",
    "    for j in range(1, 4):\n",
    "        print(f' (i = {i}) + (j = {j}) = {i * j}')\n",
    "    print('===')"
   ]
  },
  {
   "cell_type": "markdown",
   "metadata": {},
   "source": [
    "- continue\n",
    "\n",
    "    - 현재 반복에 대해서 루프 내부의 나머지 코드를 건너뛰는 데 사용\n",
    "\n",
    "- break\n",
    "    - 현재 속한 반복문 종료"
   ]
  },
  {
   "cell_type": "code",
   "execution_count": null,
   "metadata": {},
   "outputs": [
    {
     "name": "stdout",
     "output_type": "stream",
     "text": [
      "0\n",
      "1\n",
      "2\n",
      "3\n",
      "4\n",
      "6\n",
      "7\n",
      "8\n",
      "9\n"
     ]
    }
   ],
   "source": [
    "for i in range(10):\n",
    "    if i==5:\n",
    "        continue\n",
    "    print(i)"
   ]
  },
  {
   "cell_type": "code",
   "execution_count": null,
   "metadata": {},
   "outputs": [
    {
     "name": "stdout",
     "output_type": "stream",
     "text": [
      "0\n",
      "1\n",
      "2\n",
      "3\n",
      "4\n"
     ]
    }
   ],
   "source": [
    "for i in range(10):\n",
    "    if i==5:\n",
    "        break\n",
    "    print(i)"
   ]
  },
  {
   "cell_type": "markdown",
   "metadata": {},
   "source": [
    "- while문\n",
    "\n",
    "    - 특정 조건을 만족하는 동안 실행되는 반복문\n",
    "    \n",
    "    while <조건>:\n",
    "        # statement\n",
    "        # stetement"
   ]
  },
  {
   "cell_type": "code",
   "execution_count": null,
   "metadata": {},
   "outputs": [
    {
     "name": "stdout",
     "output_type": "stream",
     "text": [
      "1\n",
      "2\n",
      "3\n",
      "4\n",
      "5\n"
     ]
    }
   ],
   "source": [
    "count = 1\n",
    "\n",
    "while True:\n",
    "    print(count)\n",
    "    count += 1\n",
    "    if count > 5:\n",
    "        break"
   ]
  },
  {
   "cell_type": "markdown",
   "metadata": {},
   "source": [
    "### 함수\n",
    "\n",
    "    - 기능 단위로 모듈을 구성\n",
    "\n",
    "    - 코드의 체계화\n",
    "\n",
    "    - 코드의 반복을 피할 수 있고 코드의 재사용이 가능"
   ]
  },
  {
   "cell_type": "markdown",
   "metadata": {},
   "source": [
    "def function_name(parameters):\n",
    "(statement)\n",
    "(statement)\n",
    "(statement)\n",
    "\n",
    "1. 키워드 def는 함수의 시작을 표시\n",
    "2. 함수명은 고유하게 식별 가능해야 하고, 식별자 작성 규칙을 따름\n",
    "3. 함수에 값을 전달하는 매개변수는 선택사항\n",
    "4. 함수 헤더의 끝은 세미콜론\n",
    "5. 동일한 범위 내 **들여쓰기**가 적용되어야 함\n",
    "6. 함수에서 값을 반환하는 return문은 선택사항"
   ]
  },
  {
   "cell_type": "markdown",
   "metadata": {},
   "source": [
    "- 함수의 형태\n",
    "\n",
    "    - return 문은 평가되는 표현식이나, 값을 리턴\n",
    "    - return 문에 표현식이 없거나 return 문 자체가 없으면 함수는 None object를 return\n",
    "- 함수 호출()\n",
    "    - 함수를 정의한 후에는 다른 함수, 프로그램 등에서 호출\n",
    "    - 함수를 호출하기 위해서는 적절한 인수를 사용하여 호출"
   ]
  },
  {
   "cell_type": "code",
   "execution_count": null,
   "metadata": {},
   "outputs": [
    {
     "name": "stdout",
     "output_type": "stream",
     "text": [
      "<function sample_function at 0x000001F3B1BEE840>\n",
      "function is called!\n",
      "None\n"
     ]
    }
   ],
   "source": [
    "def sample_function():\n",
    "    print('function is called!')\n",
    "    \n",
    "print(sample_function)\n",
    "print(sample_function())"
   ]
  },
  {
   "cell_type": "markdown",
   "metadata": {},
   "source": [
    "- 위치 인수 (positional argument)\n",
    "\n",
    "    - 매개변수 위치에 맞게 값이 전달되는 방식\n",
    "    - 가장 기본적인 매개변수 전달방식\n"
   ]
  },
  {
   "cell_type": "code",
   "execution_count": null,
   "metadata": {},
   "outputs": [
    {
     "name": "stdout",
     "output_type": "stream",
     "text": [
      "a :1, b:2, c:3\n"
     ]
    }
   ],
   "source": [
    "def print_function(a,b,c):\n",
    "    print(f'a :{a}, b:{b}, c:{c}')\n",
    "    \n",
    "print_function(1,2,3)"
   ]
  },
  {
   "cell_type": "markdown",
   "metadata": {},
   "source": [
    "- keyword argument\n",
    "    - 함수 호출 시 매개변수의 이름을 명시하여 값을 전달\n",
    "    - 매개변수 이름을 알고 있어야 함\n",
    "    - 순서에 상관없음"
   ]
  },
  {
   "cell_type": "code",
   "execution_count": null,
   "metadata": {},
   "outputs": [
    {
     "name": "stdout",
     "output_type": "stream",
     "text": [
      "a:1\n",
      "b:4\n",
      "c:4\n",
      "9\n",
      "a:1\n",
      "b:4\n",
      "c:6\n",
      "11\n",
      "a:1\n",
      "b:5\n",
      "c:6\n",
      "12\n"
     ]
    }
   ],
   "source": [
    "def add(a, b, c):\n",
    "    print(f'a:{a}')\n",
    "    print(f'b:{b}')\n",
    "    print(f'c:{c}')\n",
    "    return a+b+c\n",
    "\n",
    "print(add(1,4,4))\n",
    "print(add(1,c=6,b=4))\n",
    "print(add(a=1,c=6,b=5))"
   ]
  },
  {
   "cell_type": "markdown",
   "metadata": {},
   "source": [
    "- 기본 매개변수 default parameter\n",
    "\n",
    "    - 함수 정의시 할당 연산자 = 를 사용하여 매개변수에 기본값 설정\n",
    "    - 함수 호출시 기본 매개변수의 값을 전달하지 않아도 된다.\n",
    "    - 값 전달 시 기본값을 덮어 씀\n",
    "    - 함수 정의시 기본값이 없는 매개변수는 기본값 매개변수 뒤에 있을 수가 없음"
   ]
  },
  {
   "cell_type": "code",
   "execution_count": null,
   "metadata": {},
   "outputs": [
    {
     "name": "stdout",
     "output_type": "stream",
     "text": [
      "a:3\n",
      "b:3\n",
      "6\n",
      "a:3\n",
      "b:4\n",
      "7\n",
      "a:5\n",
      "b:4\n",
      "9\n",
      "a:5\n",
      "b:4\n",
      "9\n",
      "a:5\n",
      "b:4\n",
      "9\n"
     ]
    }
   ],
   "source": [
    "def Add(a, b=3):\n",
    "    print(f'a:{a}')\n",
    "    print(f'b:{b}')\n",
    "    return a + b\n",
    "\n",
    "print(Add(3))\n",
    "print(Add(3,4))\n",
    "print(Add(5, b=4))\n",
    "print(Add(a=5,b=4))\n",
    "print(Add(b=4,a=5))\n",
    "# print(Add(b=3, a))"
   ]
  },
  {
   "cell_type": "markdown",
   "metadata": {},
   "source": [
    "- 기본 매개변수 tuple\n",
    "\n",
    "    - 매개변수 앞에 *를 붙이면 tuple형태로 값 전달\n",
    "    - 매개변수의 길이가 가변"
   ]
  },
  {
   "cell_type": "code",
   "execution_count": null,
   "metadata": {},
   "outputs": [
    {
     "name": "stdout",
     "output_type": "stream",
     "text": [
      "1\n",
      "---------------\n",
      "None\n",
      "1\n",
      "2\n",
      "3\n",
      "---------------\n",
      "None\n",
      "a=1\n",
      "2\n",
      "3\n",
      "4\n",
      "======\n",
      "a=1\n",
      "b=2\n",
      "3\n",
      "4\n",
      "======\n"
     ]
    }
   ],
   "source": [
    "def add(*args):\n",
    "    for arg in args:\n",
    "        print(arg)\n",
    "    print('---' * 5)\n",
    "    \n",
    "print(add(1))\n",
    "print(add(1,2,3))\n",
    "\n",
    "def add(a, *args):\n",
    "    print(f'a={a}')\n",
    "    for arg in args:\n",
    "        print(arg)\n",
    "    print('===' * 2)\n",
    "    \n",
    "add(1,2,3,4)\n",
    "\n",
    "def add(a, b=2,*args):\n",
    "    print(f'a={a}')\n",
    "    print(f'b={b}')\n",
    "    for arg in args:\n",
    "        print(arg)\n",
    "    print('===' * 2)\n",
    "    \n",
    "add(1,2,3,4)"
   ]
  },
  {
   "cell_type": "markdown",
   "metadata": {},
   "source": [
    "- 기본 매개변수 - dict\n",
    "\n",
    "    - 매개변수 앞에 **를 붙이면 dict형태로 전달\n",
    "    - 매개변수 길이 가변"
   ]
  },
  {
   "cell_type": "code",
   "execution_count": null,
   "metadata": {},
   "outputs": [
    {
     "name": "stdout",
     "output_type": "stream",
     "text": [
      "a 1\n",
      "b 2\n",
      "c 3\n",
      "---\n",
      "{'a': 1, 'b': 2, 'c': 3}\n",
      "a 1\n",
      "b 2\n",
      "c 3\n",
      "---\n",
      "a=1\n",
      "b=2\n",
      "====================\n",
      "z 3\n",
      "x 4\n",
      "y 5\n",
      "------\n"
     ]
    }
   ],
   "source": [
    "def add(**a):\n",
    "    for k, v in a.items():\n",
    "        print(k, v)\n",
    "    print('---')\n",
    "    \n",
    "add(a=1,b=2,c=3)\n",
    "\n",
    "b = {'a':1,'b':2,'c':3}\n",
    "print(b)\n",
    "add(**b)\n",
    "\n",
    "def add(a, b=2, **kvargs):\n",
    "    print(f'a={a}')\n",
    "    print(f'b={b}')\n",
    "    print('====' * 5)\n",
    "    for k, v in kvargs.items():\n",
    "        print(k, v)\n",
    "    print('------')\n",
    "\n",
    "add(a=1,b=2,z=3,x=4,y=5)"
   ]
  },
  {
   "cell_type": "markdown",
   "metadata": {},
   "source": [
    "- lambda 함수 \n",
    "\n",
    "    - 이름없이 정의된 함수\n",
    "    - lambda 키워드를 사용하여 정의\n",
    "    - 여러개의 인자를 가질 수 있지만 표현식은 단 하나\n",
    "    - 람다함수는 filter(), map()같은 내장함수와 함께 사용"
   ]
  },
  {
   "cell_type": "code",
   "execution_count": null,
   "metadata": {},
   "outputs": [
    {
     "name": "stdout",
     "output_type": "stream",
     "text": [
      "8\n",
      "20\n"
     ]
    }
   ],
   "source": [
    "a = lambda x: x*2\n",
    "print(a(4))\n",
    "a = lambda x,y: x*y\n",
    "print(a(4,5))"
   ]
  },
  {
   "cell_type": "markdown",
   "metadata": {},
   "source": [
    "### 패키지와 모듈\n",
    "\n",
    "- 함수와 모듈 패키지는 함수가 여러개 모여 모듈, 모듈이 여러개 모여 패키지를 이룬다\n",
    "\n",
    "- c언어의 .c 파일과 .h 파일이 모여 하나의 프로그램이 되는것과 유사\n",
    "\n",
    "#### 모듈\n",
    "\n",
    "- 재사용 하고자 하는 변수, 함수등을 별도의 파일에 저장하여 다른 Python 파일에서 호출하여 사용\n",
    "- 파일명이 calculator.py는 모듈명은 calculator\n",
    "- 큰 프로그램을 작게 쪼개서 재사용성이 높음\n",
    "- 자주쓰는 함수를 정의, 이를 다른 파일에서 import해서 사용\n",
    "\n",
    "#### 모듈 사용\n",
    "- import 모듈명으로 사용할 수 있음\n",
    "- 함수 단위의 import도 가능\n",
    "\n",
    "#### alias\n",
    "\n",
    "- 모듈의 이름이 긴 경우 줄여 사용\n",
    "- alias는 흔히 사용되고, 이를 암묵적으로 따름\n",
    "- pd, np, plt, sns 등등"
   ]
  },
  {
   "cell_type": "markdown",
   "metadata": {},
   "source": []
  }
 ],
 "metadata": {
  "kernelspec": {
   "display_name": "Python 3",
   "language": "python",
   "name": "python3"
  },
  "language_info": {
   "codemirror_mode": {
    "name": "ipython",
    "version": 3
   },
   "file_extension": ".py",
   "mimetype": "text/x-python",
   "name": "python",
   "nbconvert_exporter": "python",
   "pygments_lexer": "ipython3",
   "version": "3.12.3"
  }
 },
 "nbformat": 4,
 "nbformat_minor": 2
}
