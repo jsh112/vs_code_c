{
 "cells": [
  {
   "cell_type": "code",
   "execution_count": 35,
   "id": "b525f07e-c56c-48f7-a9ac-760d51858bfe",
   "metadata": {},
   "outputs": [
    {
     "data": {
      "text/html": [
       "<img src=\"https://upload.wikimedia.org/wikipedia/commons/thumb/e/ed/Pandas_logo.svg/1280px-Pandas_logo.svg.png\" width=\"250\"/>"
      ],
      "text/plain": [
       "<IPython.core.display.Image object>"
      ]
     },
     "execution_count": 35,
     "metadata": {},
     "output_type": "execute_result"
    }
   ],
   "source": [
    "from IPython.display import Image\n",
    "img = Image(url=\"https://upload.wikimedia.org/wikipedia/commons/thumb/e/ed/Pandas_logo.svg/1280px-Pandas_logo.svg.png\", width=250)\n",
    "img"
   ]
  },
  {
   "cell_type": "markdown",
   "id": "ed672ca5",
   "metadata": {},
   "source": [
    "- ### 셀이 선택되면 **M**은 `MarkDown`, **Y**는 `Python Code`"
   ]
  },
  {
   "cell_type": "markdown",
   "id": "000d9e96-2df2-4ff4-9c7e-71bf00940ce3",
   "metadata": {},
   "source": [
    "# Pandas"
   ]
  },
  {
   "cell_type": "markdown",
   "id": "6c2f8403",
   "metadata": {},
   "source": [
    "## 개요"
   ]
  },
  {
   "cell_type": "markdown",
   "id": "bfc1ca90",
   "metadata": {},
   "source": [
    "**관계형** 또는 **레이블이 된** 데이터로 쉽고 직관적 으로 작업할 수 있도록 설계되었고, 빠르고, 유연한 데이터 구조를 제공하는 Python 패키지입니다.\n",
    "\n",
    "또한, 어떤 언어로도 사용할 수 있는 가장 **강력하고 유연한 오픈 소스 데이터 분석 / 조직 도구**입니다.\n",
    "\n",
    "Pandas는 다음의 종류의 데이터에 **적합한 분석 패키지**입니다.\n",
    "\n",
    "- SQL 테이블 또는 Excel 스프레드 시트에서와 같은 열과 행으로 이루어진 테이블 형식 데이터\n",
    "- 정렬되고 정렬되지 않은 시계열 데이터\n",
    "- 다른 형태의 관찰 / 통계 데이터 세트"
   ]
  },
  {
   "cell_type": "markdown",
   "id": "159a2203",
   "metadata": {},
   "source": [
    "## Pandas의 Alias 지정"
   ]
  },
  {
   "cell_type": "markdown",
   "id": "5beaaf94",
   "metadata": {},
   "source": [
    "pandas는 `pd`의 alias를 사용합니다."
   ]
  },
  {
   "cell_type": "code",
   "execution_count": 36,
   "id": "aca53a83",
   "metadata": {},
   "outputs": [],
   "source": [
    "import pandas"
   ]
  },
  {
   "cell_type": "code",
   "execution_count": 37,
   "id": "8445e61b",
   "metadata": {},
   "outputs": [
    {
     "data": {
      "text/plain": [
       "<module 'pandas' from 'c:\\\\Users\\\\jshkr\\\\AppData\\\\Local\\\\Programs\\\\Python\\\\Python312\\\\Lib\\\\site-packages\\\\pandas\\\\__init__.py'>"
      ]
     },
     "execution_count": 37,
     "metadata": {},
     "output_type": "execute_result"
    }
   ],
   "source": [
    "pandas"
   ]
  },
  {
   "cell_type": "code",
   "execution_count": 38,
   "id": "9dbd9605",
   "metadata": {},
   "outputs": [],
   "source": [
    "import pandas as pd"
   ]
  },
  {
   "cell_type": "code",
   "execution_count": 39,
   "id": "d1be6f56",
   "metadata": {},
   "outputs": [
    {
     "data": {
      "text/plain": [
       "<module 'pandas' from 'c:\\\\Users\\\\jshkr\\\\AppData\\\\Local\\\\Programs\\\\Python\\\\Python312\\\\Lib\\\\site-packages\\\\pandas\\\\__init__.py'>"
      ]
     },
     "execution_count": 39,
     "metadata": {},
     "output_type": "execute_result"
    }
   ],
   "source": [
    "pd"
   ]
  },
  {
   "cell_type": "code",
   "execution_count": 40,
   "id": "8f55b80b",
   "metadata": {},
   "outputs": [
    {
     "data": {
      "text/plain": [
       "'2.2.2'"
      ]
     },
     "execution_count": 40,
     "metadata": {},
     "output_type": "execute_result"
    }
   ],
   "source": [
    "pd.__version__"
   ]
  },
  {
   "cell_type": "markdown",
   "id": "895bd560",
   "metadata": {},
   "source": [
    "## Series"
   ]
  },
  {
   "cell_type": "markdown",
   "id": "db2eb06d",
   "metadata": {},
   "source": [
    "Pandas의 Series는 1차원 배열로서 다음의 특징을 가집니다.\n",
    "\n",
    "- 데이터를 담는 **차원 배열 구조**를 가집니다.\n",
    "- **인덱스(index)를 사용 가능**합니다.\n",
    "- **데이터 타입**을 가집니다. (dtype)"
   ]
  },
  {
   "cell_type": "markdown",
   "id": "8dea1e52",
   "metadata": {},
   "source": [
    "### Series의 생성"
   ]
  },
  {
   "cell_type": "markdown",
   "id": "e437e783",
   "metadata": {},
   "source": [
    "numpy array 로 생성한 경우"
   ]
  },
  {
   "cell_type": "code",
   "execution_count": 41,
   "id": "cd84bccc",
   "metadata": {},
   "outputs": [
    {
     "data": {
      "text/plain": [
       "array([100, 101, 102, 103, 104])"
      ]
     },
     "execution_count": 41,
     "metadata": {},
     "output_type": "execute_result"
    }
   ],
   "source": [
    "# numpy 생성\n",
    "import numpy as np\n",
    "arr = np.arange(100, 105)\n",
    "arr"
   ]
  },
  {
   "cell_type": "code",
   "execution_count": 42,
   "id": "51b27039",
   "metadata": {},
   "outputs": [
    {
     "data": {
      "text/plain": [
       "0    100\n",
       "1    101\n",
       "2    102\n",
       "3    103\n",
       "4    104\n",
       "dtype: int32"
      ]
     },
     "execution_count": 42,
     "metadata": {},
     "output_type": "execute_result"
    }
   ],
   "source": [
    "s = pd.Series(arr)\n",
    "s"
   ]
  },
  {
   "cell_type": "markdown",
   "id": "8df02d4b",
   "metadata": {},
   "source": [
    "`dtype`을 지정하여 생성한 경우"
   ]
  },
  {
   "cell_type": "code",
   "execution_count": 43,
   "id": "7558d8a5",
   "metadata": {},
   "outputs": [
    {
     "data": {
      "text/plain": [
       "0    100\n",
       "1    101\n",
       "2    102\n",
       "3    103\n",
       "4    104\n",
       "dtype: int32"
      ]
     },
     "execution_count": 43,
     "metadata": {},
     "output_type": "execute_result"
    }
   ],
   "source": [
    "s = pd.Series(arr, dtype='int32')\n",
    "s"
   ]
  },
  {
   "cell_type": "markdown",
   "id": "dba59d9f",
   "metadata": {},
   "source": [
    "##### list로 생성한 경우"
   ]
  },
  {
   "cell_type": "code",
   "execution_count": 44,
   "id": "fe4febdd",
   "metadata": {},
   "outputs": [
    {
     "name": "stdout",
     "output_type": "stream",
     "text": [
      "0    부장\n",
      "1    차장\n",
      "2    대리\n",
      "3    사원\n",
      "4    인턴\n",
      "dtype: object\n"
     ]
    }
   ],
   "source": [
    "a = pd.Series(['부장', '차장', '대리', '사원', '인턴'])\n",
    "# a == print(a)\n",
    "print(a)"
   ]
  },
  {
   "cell_type": "markdown",
   "id": "6f506904",
   "metadata": {},
   "source": [
    "##### 다양한 타입(type)의 데이터를 섞은 경우"
   ]
  },
  {
   "cell_type": "markdown",
   "id": "6ad9d0ee",
   "metadata": {},
   "source": [
    "Series에 다양한 데이터 타입의 데이터로 생성 시, **object** 타입으로 생성됩니다."
   ]
  },
  {
   "cell_type": "code",
   "execution_count": 45,
   "id": "46230b2a",
   "metadata": {},
   "outputs": [
    {
     "data": {
      "text/plain": [
       "0      91\n",
       "1     2.5\n",
       "2     스포츠\n",
       "3       4\n",
       "4    5.16\n",
       "dtype: object"
      ]
     },
     "execution_count": 45,
     "metadata": {},
     "output_type": "execute_result"
    }
   ],
   "source": [
    "a = pd.Series([91, 2.5, '스포츠', 4, 5.16])\n",
    "a"
   ]
  },
  {
   "cell_type": "markdown",
   "id": "a49caa80",
   "metadata": {},
   "source": [
    "### 연습문제"
   ]
  },
  {
   "cell_type": "markdown",
   "id": "73e2cc80",
   "metadata": {},
   "source": [
    "다음의 Series를 생성하세요\n",
    "- dtype은 `float32`가 되도록 생성하세요"
   ]
  },
  {
   "cell_type": "code",
   "execution_count": 46,
   "id": "51cd48d9",
   "metadata": {},
   "outputs": [
    {
     "data": {
      "text/plain": [
       "0     3.0\n",
       "1     5.0\n",
       "2     7.0\n",
       "3     9.0\n",
       "4    11.0\n",
       "dtype: float32"
      ]
     },
     "execution_count": 46,
     "metadata": {},
     "output_type": "execute_result"
    }
   ],
   "source": [
    "# 코드를 입력해주세요\n",
    "a = pd.Series([3, 5, 7, 9, 11], dtype='float32')\n",
    "a"
   ]
  },
  {
   "cell_type": "code",
   "execution_count": 47,
   "id": "19a8fc15",
   "metadata": {},
   "outputs": [
    {
     "data": {
      "text/plain": [
       "0     3.0\n",
       "1     5.0\n",
       "2     7.0\n",
       "3     9.0\n",
       "4    11.0\n",
       "dtype: float32"
      ]
     },
     "execution_count": 47,
     "metadata": {},
     "output_type": "execute_result"
    }
   ],
   "source": [
    "_list = [3,5,7,9,11]\n",
    "pd.Series(_list, dtype='float32')"
   ]
  },
  {
   "cell_type": "markdown",
   "id": "094636eb",
   "metadata": {},
   "source": [
    "<p><strong>[출력 결과]</strong></p>\n",
    "<pre>\n",
    "0     3.0\n",
    "1     5.0\n",
    "2     7.0\n",
    "3     9.0\n",
    "4    11.0\n",
    "dtype: float32</pre>\n"
   ]
  },
  {
   "cell_type": "code",
   "execution_count": 48,
   "id": "f06ecaca",
   "metadata": {},
   "outputs": [
    {
     "data": {
      "text/plain": [
       "0    가\n",
       "1    나\n",
       "2    다\n",
       "3    라\n",
       "4    마\n",
       "dtype: object"
      ]
     },
     "execution_count": 48,
     "metadata": {},
     "output_type": "execute_result"
    }
   ],
   "source": [
    "# 코드를 입력해 주세요\n",
    "pd.Series(['가', '나','다','라','마'])"
   ]
  },
  {
   "cell_type": "code",
   "execution_count": 49,
   "id": "708fc304",
   "metadata": {},
   "outputs": [
    {
     "data": {
      "text/plain": [
       "0    가\n",
       "1    나\n",
       "2    다\n",
       "3    라\n",
       "4    마\n",
       "dtype: object"
      ]
     },
     "execution_count": 49,
     "metadata": {},
     "output_type": "execute_result"
    }
   ],
   "source": [
    "# list 로 만드는 방법\n",
    "_list = list('가나다라마')\n",
    "pd.Series(_list)"
   ]
  },
  {
   "cell_type": "markdown",
   "id": "64121d71",
   "metadata": {},
   "source": [
    "<p><strong>[출력 결과]</strong></p>\n",
    "<pre>\n",
    "0   가\n",
    "1   나\n",
    "2   다\n",
    "3   라\n",
    "4   마\n",
    "dtype: object</pre>"
   ]
  },
  {
   "cell_type": "markdown",
   "id": "356cdac1",
   "metadata": {},
   "source": [
    "### 인덱싱 (indexing)"
   ]
  },
  {
   "cell_type": "code",
   "execution_count": 50,
   "id": "c4fa2330",
   "metadata": {},
   "outputs": [
    {
     "data": {
      "text/plain": [
       "0    부장\n",
       "1    차장\n",
       "2    대리\n",
       "3    사원\n",
       "4    인턴\n",
       "dtype: object"
      ]
     },
     "execution_count": 50,
     "metadata": {},
     "output_type": "execute_result"
    }
   ],
   "source": [
    "s = pd.Series(['부장', '차장', '대리', '사원', '인턴'])\n",
    "s"
   ]
  },
  {
   "cell_type": "markdown",
   "id": "158453cf",
   "metadata": {},
   "source": [
    "Series 생성 시 0부터 순차적으로 부여되는 index를 확인할 수 있습니다.\n",
    "\n",
    "이를 `RangeIndex` 라고 부릅니다."
   ]
  },
  {
   "cell_type": "code",
   "execution_count": 51,
   "id": "d0bdc678",
   "metadata": {},
   "outputs": [
    {
     "data": {
      "text/plain": [
       "RangeIndex(start=0, stop=5, step=1)"
      ]
     },
     "execution_count": 51,
     "metadata": {},
     "output_type": "execute_result"
    }
   ],
   "source": [
    "s.index"
   ]
  },
  {
   "cell_type": "markdown",
   "id": "17053112",
   "metadata": {},
   "source": [
    "인덱싱 사례"
   ]
  },
  {
   "cell_type": "code",
   "execution_count": 52,
   "id": "028ac8d6",
   "metadata": {},
   "outputs": [
    {
     "data": {
      "text/plain": [
       "'부장'"
      ]
     },
     "execution_count": 52,
     "metadata": {},
     "output_type": "execute_result"
    }
   ],
   "source": [
    "s[0]"
   ]
  },
  {
   "cell_type": "markdown",
   "id": "b74a6a44",
   "metadata": {},
   "source": [
    "### Fancy Indexing"
   ]
  },
  {
   "cell_type": "code",
   "execution_count": 53,
   "id": "164be5df",
   "metadata": {},
   "outputs": [
    {
     "data": {
      "text/plain": [
       "1    차장\n",
       "3    사원\n",
       "dtype: object"
      ]
     },
     "execution_count": 53,
     "metadata": {},
     "output_type": "execute_result"
    }
   ],
   "source": [
    "idx = [1, 3]\n",
    "s[idx]"
   ]
  },
  {
   "cell_type": "code",
   "execution_count": 54,
   "id": "8925216e",
   "metadata": {},
   "outputs": [
    {
     "data": {
      "text/plain": [
       "array([1, 3])"
      ]
     },
     "execution_count": 54,
     "metadata": {},
     "output_type": "execute_result"
    }
   ],
   "source": [
    "np.arange(1, 4, 2)"
   ]
  },
  {
   "cell_type": "code",
   "execution_count": 55,
   "id": "2d0b731e",
   "metadata": {},
   "outputs": [
    {
     "data": {
      "text/plain": [
       "1    차장\n",
       "3    사원\n",
       "dtype: object"
      ]
     },
     "execution_count": 55,
     "metadata": {},
     "output_type": "execute_result"
    }
   ],
   "source": [
    "idx = np.arange(1, 4, 2)\n",
    "s[idx]"
   ]
  },
  {
   "cell_type": "markdown",
   "id": "5029a84c",
   "metadata": {},
   "source": [
    "### boolean indexing"
   ]
  },
  {
   "cell_type": "markdown",
   "id": "dcf2eb52",
   "metadata": {},
   "source": [
    "조건식을 만들어서 특정 조건에 대하여 `True`에 해당하는 값만 필터링 할 수 있습니다."
   ]
  },
  {
   "cell_type": "code",
   "execution_count": 56,
   "id": "9d7c8b3c",
   "metadata": {},
   "outputs": [
    {
     "data": {
      "text/plain": [
       "0    12732\n",
       "1    19845\n",
       "2    13264\n",
       "3    14859\n",
       "4    19225\n",
       "5    17891\n",
       "6    14373\n",
       "7    15874\n",
       "8    16744\n",
       "9    13468\n",
       "dtype: int32"
      ]
     },
     "execution_count": 56,
     "metadata": {},
     "output_type": "execute_result"
    }
   ],
   "source": [
    "np.random.seed(0)\n",
    "s = pd.Series(np.random.randint(10000, 20000, size=(10,)))\n",
    "s"
   ]
  },
  {
   "cell_type": "markdown",
   "id": "d55fa510",
   "metadata": {},
   "source": [
    "boolean series를 생성 후 index로 활용하여 필터합니다."
   ]
  },
  {
   "cell_type": "code",
   "execution_count": 57,
   "id": "dd9e91a8",
   "metadata": {},
   "outputs": [
    {
     "data": {
      "text/plain": [
       "0    False\n",
       "1     True\n",
       "2    False\n",
       "3    False\n",
       "4     True\n",
       "5     True\n",
       "6    False\n",
       "7     True\n",
       "8     True\n",
       "9    False\n",
       "dtype: bool"
      ]
     },
     "execution_count": 57,
     "metadata": {},
     "output_type": "execute_result"
    }
   ],
   "source": [
    "s > 15000"
   ]
  },
  {
   "cell_type": "code",
   "execution_count": 58,
   "id": "098176f5",
   "metadata": {},
   "outputs": [
    {
     "data": {
      "text/plain": [
       "1    19845\n",
       "4    19225\n",
       "5    17891\n",
       "7    15874\n",
       "8    16744\n",
       "dtype: int32"
      ]
     },
     "execution_count": 58,
     "metadata": {},
     "output_type": "execute_result"
    }
   ],
   "source": [
    "# 15000 이상인 데이터 필터\n",
    "s[s > 15000]"
   ]
  },
  {
   "cell_type": "code",
   "execution_count": 59,
   "id": "280df1b1",
   "metadata": {},
   "outputs": [
    {
     "data": {
      "text/plain": [
       "5    17891\n",
       "7    15874\n",
       "8    16744\n",
       "dtype: int32"
      ]
     },
     "execution_count": 59,
     "metadata": {},
     "output_type": "execute_result"
    }
   ],
   "source": [
    "idx = (s > 15000) & (s < 18000)\n",
    "s[idx]"
   ]
  },
  {
   "cell_type": "markdown",
   "id": "e4665c39",
   "metadata": {},
   "source": [
    "기본 값으로 부여되는 `RangeIndex` 에 사용자 정의의 `index`를 **지정**할 수 있습니다"
   ]
  },
  {
   "cell_type": "code",
   "execution_count": 60,
   "id": "ed25f8b9",
   "metadata": {},
   "outputs": [
    {
     "data": {
      "text/plain": [
       "a    마케팅\n",
       "b     경영\n",
       "c     개발\n",
       "d     기획\n",
       "e     인사\n",
       "dtype: object"
      ]
     },
     "execution_count": 60,
     "metadata": {},
     "output_type": "execute_result"
    }
   ],
   "source": [
    "s = pd.Series(['마케팅', '경영', '개발', '기획', '인사'], index=['a', 'b', 'c', 'd', 'e'])\n",
    "s"
   ]
  },
  {
   "cell_type": "code",
   "execution_count": 61,
   "id": "bbd54b00",
   "metadata": {},
   "outputs": [
    {
     "data": {
      "text/plain": [
       "Index(['a', 'b', 'c', 'd', 'e'], dtype='object')"
      ]
     },
     "execution_count": 61,
     "metadata": {},
     "output_type": "execute_result"
    }
   ],
   "source": [
    "s.index"
   ]
  },
  {
   "cell_type": "markdown",
   "id": "6dc07dbd",
   "metadata": {},
   "source": [
    "사용자 정의의 index 부여 시 **변경된 index**로 조회 가능합니다."
   ]
  },
  {
   "cell_type": "code",
   "execution_count": 62,
   "id": "ff156039",
   "metadata": {},
   "outputs": [
    {
     "data": {
      "text/plain": [
       "'개발'"
      ]
     },
     "execution_count": 62,
     "metadata": {},
     "output_type": "execute_result"
    }
   ],
   "source": [
    "s['c']"
   ]
  },
  {
   "cell_type": "code",
   "execution_count": 63,
   "id": "d6e588d3",
   "metadata": {},
   "outputs": [
    {
     "data": {
      "text/plain": [
       "a    마케팅\n",
       "d     기획\n",
       "dtype: object"
      ]
     },
     "execution_count": 63,
     "metadata": {},
     "output_type": "execute_result"
    }
   ],
   "source": [
    "s[['a', 'd']]"
   ]
  },
  {
   "cell_type": "markdown",
   "id": "6cc2d410",
   "metadata": {},
   "source": [
    "먼저, `Series`를 생성 후 index 속성 값에 새로운 index를 할당하여 인덱스를 지정할 수 있습니다."
   ]
  },
  {
   "cell_type": "code",
   "execution_count": 64,
   "id": "65502e53",
   "metadata": {},
   "outputs": [
    {
     "data": {
      "text/plain": [
       "RangeIndex(start=0, stop=5, step=1)"
      ]
     },
     "execution_count": 64,
     "metadata": {},
     "output_type": "execute_result"
    }
   ],
   "source": [
    "s = pd.Series(['마케팅', '경영', '개발', '기획', '인사'])\n",
    "s.index"
   ]
  },
  {
   "cell_type": "code",
   "execution_count": 65,
   "id": "3638bdd4",
   "metadata": {},
   "outputs": [
    {
     "data": {
      "text/plain": [
       "['a', 'b', 'c', 'd', 'e']"
      ]
     },
     "execution_count": 65,
     "metadata": {},
     "output_type": "execute_result"
    }
   ],
   "source": [
    "list('abcde')"
   ]
  },
  {
   "cell_type": "code",
   "execution_count": 66,
   "id": "800cec37",
   "metadata": {},
   "outputs": [
    {
     "data": {
      "text/plain": [
       "a    마케팅\n",
       "b     경영\n",
       "c     개발\n",
       "d     기획\n",
       "e     인사\n",
       "dtype: object"
      ]
     },
     "execution_count": 66,
     "metadata": {},
     "output_type": "execute_result"
    }
   ],
   "source": [
    "s.index = list('abcde')\n",
    "s"
   ]
  },
  {
   "cell_type": "markdown",
   "id": "d3443797",
   "metadata": {},
   "source": [
    "### 연습문제\n",
    "\n",
    "다음의 Series를 생성하고 `sample` 변수에 대입하고 출력하세요"
   ]
  },
  {
   "cell_type": "code",
   "execution_count": 67,
   "id": "db2b8b62",
   "metadata": {},
   "outputs": [
    {
     "name": "stdout",
     "output_type": "stream",
     "text": [
      "가    10\n",
      "나    20\n",
      "다    30\n",
      "라    40\n",
      "마    50\n",
      "dtype: int64\n"
     ]
    }
   ],
   "source": [
    "# 코드를 입력해 주세요\n",
    "#_list = list('가나다라마')\n",
    "list_number = [10, 20, 30, 40, 50]\n",
    "# sample = pd.Series(list_number, index=_list)\n",
    "# print(sample)\n",
    "# print('\\n')\n",
    "\n",
    "# 다른 방법 s.index\n",
    "\n",
    "sample = pd.Series(list_number)\n",
    "sample.index = _list\n",
    "print(sample)"
   ]
  },
  {
   "cell_type": "markdown",
   "id": "d842add2",
   "metadata": {},
   "source": [
    "<p><strong>[출력 결과]</strong></p>\n",
    "<pre>\n",
    "가  10\n",
    "나  20\n",
    "다  30\n",
    "라  40\n",
    "마  50\n",
    "dtype: int64</pre>"
   ]
  },
  {
   "cell_type": "markdown",
   "id": "a31c2497",
   "metadata": {},
   "source": [
    "`sample` 중 **'나' 와 '라'** 데이터를 조회하세요"
   ]
  },
  {
   "cell_type": "code",
   "execution_count": 68,
   "id": "8e5f38c2",
   "metadata": {},
   "outputs": [
    {
     "data": {
      "text/plain": [
       "나    20\n",
       "라    40\n",
       "dtype: int64"
      ]
     },
     "execution_count": 68,
     "metadata": {},
     "output_type": "execute_result"
    }
   ],
   "source": [
    "# 코드를 입력하세요\n",
    "idx = ['나','라']\n",
    "sample[idx]"
   ]
  },
  {
   "cell_type": "markdown",
   "id": "e73d8692",
   "metadata": {},
   "source": [
    "<p><strong>[출력 결과]</p></strong>\n",
    "<pre>\n",
    "나  20\n",
    "라  40\n",
    "dtype: int64</pre>"
   ]
  },
  {
   "cell_type": "code",
   "execution_count": 69,
   "id": "57ae8e64",
   "metadata": {},
   "outputs": [
    {
     "data": {
      "text/plain": [
       "0     199\n",
       "1     190\n",
       "2     115\n",
       "3     195\n",
       "4     128\n",
       "5     190\n",
       "6     109\n",
       "7     120\n",
       "8     175\n",
       "9     122\n",
       "10    171\n",
       "11    134\n",
       "12    196\n",
       "13    140\n",
       "14    185\n",
       "dtype: int32"
      ]
     },
     "execution_count": 69,
     "metadata": {},
     "output_type": "execute_result"
    }
   ],
   "source": [
    "np.random.seed(20)\n",
    "sample2 = pd.Series(np.random.randint(100, 200, size=(15,)))\n",
    "sample2"
   ]
  },
  {
   "cell_type": "markdown",
   "id": "eeeadeb2",
   "metadata": {},
   "source": [
    "`sample2` 중 160 이하인 데이터만 필터하세요"
   ]
  },
  {
   "cell_type": "code",
   "execution_count": 70,
   "id": "a84999cc",
   "metadata": {},
   "outputs": [
    {
     "data": {
      "text/plain": [
       "2     115\n",
       "4     128\n",
       "6     109\n",
       "7     120\n",
       "9     122\n",
       "11    134\n",
       "13    140\n",
       "dtype: int32"
      ]
     },
     "execution_count": 70,
     "metadata": {},
     "output_type": "execute_result"
    }
   ],
   "source": [
    "# 코드를 입력해 주세요\n",
    "sample2[sample2 <= 160]"
   ]
  },
  {
   "cell_type": "markdown",
   "id": "91a4c6eb",
   "metadata": {},
   "source": [
    "<p><strong>[출력 결과]</strong></p>\n",
    "<pre>2     115\n",
    "4     128\n",
    "6     109\n",
    "7     120\n",
    "9     122\n",
    "11    134\n",
    "13    140\n",
    "dtype: int64</pre>"
   ]
  },
  {
   "cell_type": "markdown",
   "id": "b13eefbb",
   "metadata": {},
   "source": [
    "`sample2` 중 **130 이상 170 이하**인 데이터만 필터하세요"
   ]
  },
  {
   "cell_type": "code",
   "execution_count": 71,
   "id": "5a98671d",
   "metadata": {},
   "outputs": [
    {
     "data": {
      "text/plain": [
       "11    134\n",
       "13    140\n",
       "dtype: int32"
      ]
     },
     "execution_count": 71,
     "metadata": {},
     "output_type": "execute_result"
    }
   ],
   "source": [
    "# 코드를 입력해주세요\n",
    "idx = (sample2 >= 130) & (sample2 <= 170)\n",
    "sample2[idx]"
   ]
  },
  {
   "cell_type": "markdown",
   "id": "f80f9572",
   "metadata": {},
   "source": [
    "<p><strong>[출력 결과]</p></strong>\n",
    "<pre>\n",
    "11  134\n",
    "13  140\n",
    "dtype: int64</pre>"
   ]
  },
  {
   "cell_type": "markdown",
   "id": "06fc15b0",
   "metadata": {},
   "source": [
    "## 속성 (attribute)"
   ]
  },
  {
   "cell_type": "markdown",
   "id": "7267f820",
   "metadata": {},
   "source": [
    "### values"
   ]
  },
  {
   "cell_type": "markdown",
   "id": "02eee0a8",
   "metadata": {},
   "source": [
    "`values` 는 Series 데이터 값(value)만 **numpy array** 형식으로 가져 옵니다."
   ]
  },
  {
   "cell_type": "code",
   "execution_count": 72,
   "id": "6e026c3a",
   "metadata": {},
   "outputs": [
    {
     "data": {
      "text/plain": [
       "a    마케팅\n",
       "b     경영\n",
       "c     개발\n",
       "d     기획\n",
       "e     인사\n",
       "dtype: object"
      ]
     },
     "execution_count": 72,
     "metadata": {},
     "output_type": "execute_result"
    }
   ],
   "source": [
    "s"
   ]
  },
  {
   "cell_type": "code",
   "execution_count": 73,
   "id": "ba3030ac",
   "metadata": {},
   "outputs": [
    {
     "data": {
      "text/plain": [
       "array(['마케팅', '경영', '개발', '기획', '인사'], dtype=object)"
      ]
     },
     "execution_count": 73,
     "metadata": {},
     "output_type": "execute_result"
    }
   ],
   "source": [
    "s.values"
   ]
  },
  {
   "cell_type": "markdown",
   "id": "b0861096",
   "metadata": {},
   "source": [
    "### ndim - 차원"
   ]
  },
  {
   "cell_type": "markdown",
   "id": "94c27de5",
   "metadata": {},
   "source": [
    "`Series`는 1차원 자료구조이기 때문에 `ndim` 출력시 **1**이 출력됩니다."
   ]
  },
  {
   "cell_type": "code",
   "execution_count": 74,
   "id": "8f5d772e",
   "metadata": {},
   "outputs": [
    {
     "data": {
      "text/plain": [
       "1"
      ]
     },
     "execution_count": 74,
     "metadata": {},
     "output_type": "execute_result"
    }
   ],
   "source": [
    "s.ndim"
   ]
  },
  {
   "cell_type": "markdown",
   "id": "7e1ee4fc",
   "metadata": {},
   "source": [
    "### shape"
   ]
  },
  {
   "cell_type": "markdown",
   "id": "06f188fa",
   "metadata": {},
   "source": [
    "shape은 데이터의 모양(shape)을 알아보기 위하여 사용하는데, `Series`의 shape은 **데이터의 개수**를 나타냅니다.\n",
    "\n",
    "\n",
    "**튜플(tuple)** 형식으로 출력됩니다."
   ]
  },
  {
   "cell_type": "code",
   "execution_count": 75,
   "id": "378fa394",
   "metadata": {},
   "outputs": [
    {
     "data": {
      "text/plain": [
       "(5,)"
      ]
     },
     "execution_count": 75,
     "metadata": {},
     "output_type": "execute_result"
    }
   ],
   "source": [
    "s.shape"
   ]
  },
  {
   "cell_type": "markdown",
   "id": "a769982a",
   "metadata": {},
   "source": [
    "### NaN (Not a Number)\n",
    "\n",
    "Pandas에서 **NaN 값**은 비어있는 **결측치 데이터**를 의미합니다.\n",
    "\n",
    "임의로 비어있는 값을 대입하고자 할 때는 **numpy의 nan (np.nan)** 을 입력합니다.\n"
   ]
  },
  {
   "cell_type": "code",
   "execution_count": 76,
   "id": "69d2bf11",
   "metadata": {},
   "outputs": [
    {
     "name": "stdout",
     "output_type": "stream",
     "text": [
      "0     선화\n",
      "1     강호\n",
      "2    NaN\n",
      "3     소정\n",
      "4     우영\n",
      "dtype: object\n"
     ]
    }
   ],
   "source": [
    "s = pd.Series([\n",
    "    '선화', '강호', np.nan, '소정', '우영'\n",
    "])\n",
    "print(s)"
   ]
  },
  {
   "cell_type": "markdown",
   "id": "f6a3473a",
   "metadata": {},
   "source": [
    "### 연습문제\n",
    "\n",
    "다음과 같은 `Series` 를 생성해 주세요"
   ]
  },
  {
   "cell_type": "code",
   "execution_count": 77,
   "id": "76bb996a",
   "metadata": {},
   "outputs": [
    {
     "data": {
      "text/plain": [
       "가     apple\n",
       "나       NaN\n",
       "다    banana\n",
       "라      kiwi\n",
       "마    gubong\n",
       "dtype: object"
      ]
     },
     "execution_count": 77,
     "metadata": {},
     "output_type": "execute_result"
    }
   ],
   "source": [
    "# 코드를 입력해 주세요\n",
    "_list = list('가나다라마')\n",
    "a = pd.Series(['apple', np.nan, 'banana', 'kiwi', 'gubong'])\n",
    "a.index = _list\n",
    "a"
   ]
  },
  {
   "cell_type": "markdown",
   "metadata": {},
   "source": [
    "<p><strong>[출력 결과]</strong></p>\n",
    "<pre>가     apple\n",
    "나       NaN\n",
    "다    banana\n",
    "라      kiwi\n",
    "마    gubong\n",
    "dtype: object</pre>"
   ]
  },
  {
   "cell_type": "markdown",
   "id": "28709e1f",
   "metadata": {},
   "source": [
    "### 결측치 (NaN) 값 처리\n",
    "\n",
    "`isnull()` 과 `isna()`은 **NaN** 값을 찾는 함수입니다.\n",
    "\n",
    "`isnull()` 과 `isna()`는 결과가 동일합니다"
   ]
  },
  {
   "cell_type": "code",
   "execution_count": 78,
   "id": "b8b4598c",
   "metadata": {},
   "outputs": [
    {
     "data": {
      "text/plain": [
       "0     선화\n",
       "1     강호\n",
       "2    NaN\n",
       "3     소정\n",
       "4     우영\n",
       "dtype: object"
      ]
     },
     "execution_count": 78,
     "metadata": {},
     "output_type": "execute_result"
    }
   ],
   "source": [
    "s"
   ]
  },
  {
   "cell_type": "code",
   "execution_count": 79,
   "id": "9a894baf",
   "metadata": {},
   "outputs": [
    {
     "data": {
      "text/plain": [
       "0    False\n",
       "1    False\n",
       "2     True\n",
       "3    False\n",
       "4    False\n",
       "dtype: bool"
      ]
     },
     "execution_count": 79,
     "metadata": {},
     "output_type": "execute_result"
    }
   ],
   "source": [
    "s.isnull()"
   ]
  },
  {
   "cell_type": "code",
   "execution_count": 80,
   "id": "da32c71d",
   "metadata": {},
   "outputs": [
    {
     "data": {
      "text/plain": [
       "0    False\n",
       "1    False\n",
       "2     True\n",
       "3    False\n",
       "4    False\n",
       "dtype: bool"
      ]
     },
     "execution_count": 80,
     "metadata": {},
     "output_type": "execute_result"
    }
   ],
   "source": [
    "s.isna()"
   ]
  },
  {
   "cell_type": "code",
   "execution_count": 81,
   "id": "61fe1d35",
   "metadata": {},
   "outputs": [
    {
     "data": {
      "text/plain": [
       "2    NaN\n",
       "dtype: object"
      ]
     },
     "execution_count": 81,
     "metadata": {},
     "output_type": "execute_result"
    }
   ],
   "source": [
    "s[s.isnull()]"
   ]
  },
  {
   "cell_type": "code",
   "execution_count": 82,
   "id": "35cce171",
   "metadata": {},
   "outputs": [
    {
     "data": {
      "text/plain": [
       "2    NaN\n",
       "dtype: object"
      ]
     },
     "execution_count": 82,
     "metadata": {},
     "output_type": "execute_result"
    }
   ],
   "source": [
    "s[s.isna()]"
   ]
  },
  {
   "cell_type": "markdown",
   "id": "a035acfa",
   "metadata": {},
   "source": [
    "`notnull()`은 **NaN**값이 아닌, 즉 비어있지 않은 데이터를 찾는 함수입니다."
   ]
  },
  {
   "cell_type": "code",
   "execution_count": 83,
   "id": "e6591617",
   "metadata": {},
   "outputs": [
    {
     "data": {
      "text/plain": [
       "0     True\n",
       "1     True\n",
       "2    False\n",
       "3     True\n",
       "4     True\n",
       "dtype: bool"
      ]
     },
     "execution_count": 83,
     "metadata": {},
     "output_type": "execute_result"
    }
   ],
   "source": [
    "s.notnull()"
   ]
  },
  {
   "cell_type": "code",
   "execution_count": 84,
   "id": "b546452f",
   "metadata": {},
   "outputs": [
    {
     "data": {
      "text/plain": [
       "0     True\n",
       "1     True\n",
       "2    False\n",
       "3     True\n",
       "4     True\n",
       "dtype: bool"
      ]
     },
     "execution_count": 84,
     "metadata": {},
     "output_type": "execute_result"
    }
   ],
   "source": [
    "s.notna()"
   ]
  },
  {
   "cell_type": "code",
   "execution_count": 85,
   "id": "f093c58d",
   "metadata": {},
   "outputs": [
    {
     "data": {
      "text/plain": [
       "0    선화\n",
       "1    강호\n",
       "3    소정\n",
       "4    우영\n",
       "dtype: object"
      ]
     },
     "execution_count": 85,
     "metadata": {},
     "output_type": "execute_result"
    }
   ],
   "source": [
    "s[s.notnull()]"
   ]
  },
  {
   "cell_type": "markdown",
   "id": "2a7cd4ea",
   "metadata": {},
   "source": [
    "### 연습문제"
   ]
  },
  {
   "cell_type": "code",
   "execution_count": 86,
   "id": "71b87093",
   "metadata": {},
   "outputs": [
    {
     "data": {
      "text/plain": [
       "0    IT서비스\n",
       "1      NaN\n",
       "2      반도체\n",
       "3      NaN\n",
       "4      바이오\n",
       "5     자율주행\n",
       "dtype: object"
      ]
     },
     "execution_count": 86,
     "metadata": {},
     "output_type": "execute_result"
    }
   ],
   "source": [
    "sample = pd.Series(['IT서비스', np.nan, '반도체', np.nan, '바이오', '자율주행'])\n",
    "sample"
   ]
  },
  {
   "cell_type": "markdown",
   "id": "764dc8e0",
   "metadata": {},
   "source": [
    "`sample` 중 결측치 데이터만 필터하세요"
   ]
  },
  {
   "cell_type": "code",
   "execution_count": 87,
   "id": "79f1cc1d",
   "metadata": {},
   "outputs": [
    {
     "data": {
      "text/plain": [
       "1    NaN\n",
       "3    NaN\n",
       "dtype: object"
      ]
     },
     "execution_count": 87,
     "metadata": {},
     "output_type": "execute_result"
    }
   ],
   "source": [
    "# 코드를 입력하세요\n",
    "sample[sample.isnull()]"
   ]
  },
  {
   "cell_type": "markdown",
   "id": "9301db85",
   "metadata": {},
   "source": [
    "<p><strong>[출력 결과]</p></strong>\n",
    "<pre>\n",
    "1   NaN\n",
    "3   NaN\n",
    "dytpe: object"
   ]
  },
  {
   "cell_type": "markdown",
   "id": "1937f8fb",
   "metadata": {},
   "source": [
    "`sample` 중 결측치가 아닌 데이터만 필터하세요"
   ]
  },
  {
   "cell_type": "code",
   "execution_count": 88,
   "id": "28083ae4",
   "metadata": {},
   "outputs": [
    {
     "data": {
      "text/plain": [
       "0    IT서비스\n",
       "2      반도체\n",
       "4      바이오\n",
       "5     자율주행\n",
       "dtype: object"
      ]
     },
     "execution_count": 88,
     "metadata": {},
     "output_type": "execute_result"
    }
   ],
   "source": [
    "# 코드를 입력해 주세요\n",
    "sample[sample.notna()]"
   ]
  },
  {
   "cell_type": "markdown",
   "id": "48922648",
   "metadata": {},
   "source": [
    "<p><strong>[출력 결과]</strong></p>\n",
    "<pre>0    IT서비스\n",
    "2      반도체\n",
    "4      바이오\n",
    "5     자율주행\n",
    "dtype: object</pre>"
   ]
  },
  {
   "cell_type": "markdown",
   "id": "4b1c37af",
   "metadata": {},
   "source": [
    "## 슬라이싱"
   ]
  },
  {
   "cell_type": "markdown",
   "id": "a9030ea1",
   "metadata": {},
   "source": [
    "**(주의)** 숫자형 index로 접근할 때는 뒷 index가 포함되지 않습니다"
   ]
  },
  {
   "cell_type": "code",
   "execution_count": 89,
   "id": "eede9cb9",
   "metadata": {},
   "outputs": [
    {
     "data": {
      "text/plain": [
       "0    100\n",
       "1    110\n",
       "2    120\n",
       "3    130\n",
       "4    140\n",
       "dtype: int32"
      ]
     },
     "execution_count": 89,
     "metadata": {},
     "output_type": "execute_result"
    }
   ],
   "source": [
    "s = pd.Series(np.arange(100, 150, 10))\n",
    "s"
   ]
  },
  {
   "cell_type": "code",
   "execution_count": 90,
   "id": "8a7897d6",
   "metadata": {},
   "outputs": [
    {
     "data": {
      "text/plain": [
       "1    110\n",
       "2    120\n",
       "dtype: int32"
      ]
     },
     "execution_count": 90,
     "metadata": {},
     "output_type": "execute_result"
    }
   ],
   "source": [
    "s[1:3]"
   ]
  },
  {
   "cell_type": "code",
   "execution_count": 91,
   "id": "b6b51fc0",
   "metadata": {},
   "outputs": [
    {
     "data": {
      "text/plain": [
       "1    110\n",
       "2    120\n",
       "3    130\n",
       "4    140\n",
       "dtype: int32"
      ]
     },
     "execution_count": 91,
     "metadata": {},
     "output_type": "execute_result"
    }
   ],
   "source": [
    "s[1:]"
   ]
  },
  {
   "cell_type": "code",
   "execution_count": 92,
   "id": "e1224b9a",
   "metadata": {},
   "outputs": [
    {
     "data": {
      "text/plain": [
       "0    100\n",
       "2    120\n",
       "4    140\n",
       "dtype: int32"
      ]
     },
     "execution_count": 92,
     "metadata": {},
     "output_type": "execute_result"
    }
   ],
   "source": [
    "s[::2]"
   ]
  },
  {
   "cell_type": "markdown",
   "id": "d4539843",
   "metadata": {},
   "source": [
    "새롭게 지정한 인덱스(문자열)는 시작 index와 끝 index **모두 포함**합니다."
   ]
  },
  {
   "cell_type": "code",
   "execution_count": 93,
   "id": "41f7d697",
   "metadata": {},
   "outputs": [
    {
     "data": {
      "text/plain": [
       "가    100\n",
       "나    110\n",
       "다    120\n",
       "라    130\n",
       "마    140\n",
       "dtype: int32"
      ]
     },
     "execution_count": 93,
     "metadata": {},
     "output_type": "execute_result"
    }
   ],
   "source": [
    "s.index = list('가나다라마')\n",
    "s"
   ]
  },
  {
   "cell_type": "code",
   "execution_count": 94,
   "id": "892225d7",
   "metadata": {},
   "outputs": [
    {
     "data": {
      "text/plain": [
       "0     100\n",
       "1     110\n",
       "2     120\n",
       "3     130\n",
       "4     140\n",
       "5     150\n",
       "6     160\n",
       "7     170\n",
       "8     180\n",
       "9     190\n",
       "10    200\n",
       "11    210\n",
       "12    220\n",
       "13    230\n",
       "14    240\n",
       "dtype: int32"
      ]
     },
     "execution_count": 94,
     "metadata": {},
     "output_type": "execute_result"
    }
   ],
   "source": [
    "s1 = pd.Series(np.arange(100, 250, 10))\n",
    "s1"
   ]
  },
  {
   "cell_type": "code",
   "execution_count": 95,
   "id": "4f8cfa29",
   "metadata": {},
   "outputs": [
    {
     "data": {
      "text/plain": [
       "1     110\n",
       "3     130\n",
       "5     150\n",
       "7     170\n",
       "9     190\n",
       "11    210\n",
       "13    230\n",
       "dtype: int32"
      ]
     },
     "execution_count": 95,
     "metadata": {},
     "output_type": "execute_result"
    }
   ],
   "source": [
    "s1[1::2]"
   ]
  },
  {
   "cell_type": "code",
   "execution_count": 96,
   "id": "fce6fc8b",
   "metadata": {},
   "outputs": [
    {
     "data": {
      "text/plain": [
       "0     100\n",
       "2     120\n",
       "4     140\n",
       "6     160\n",
       "8     180\n",
       "10    200\n",
       "12    220\n",
       "14    240\n",
       "dtype: int32"
      ]
     },
     "execution_count": 96,
     "metadata": {},
     "output_type": "execute_result"
    }
   ],
   "source": [
    "s1[::2]"
   ]
  },
  {
   "cell_type": "code",
   "execution_count": 97,
   "id": "4cbf5c14",
   "metadata": {},
   "outputs": [
    {
     "data": {
      "text/plain": [
       "1     110\n",
       "4     140\n",
       "7     170\n",
       "10    200\n",
       "13    230\n",
       "dtype: int32"
      ]
     },
     "execution_count": 97,
     "metadata": {},
     "output_type": "execute_result"
    }
   ],
   "source": [
    "s1[1::3]"
   ]
  },
  {
   "cell_type": "code",
   "execution_count": 98,
   "id": "1e256462",
   "metadata": {},
   "outputs": [
    {
     "data": {
      "text/plain": [
       "나    110\n",
       "다    120\n",
       "라    130\n",
       "dtype: int32"
      ]
     },
     "execution_count": 98,
     "metadata": {},
     "output_type": "execute_result"
    }
   ],
   "source": [
    "s['나':'라']"
   ]
  },
  {
   "cell_type": "markdown",
   "id": "d5fecd42",
   "metadata": {},
   "source": [
    "### 연습문제"
   ]
  },
  {
   "cell_type": "code",
   "execution_count": 99,
   "id": "9d5ca86a",
   "metadata": {},
   "outputs": [
    {
     "data": {
      "text/plain": [
       "0    144\n",
       "1    147\n",
       "2    164\n",
       "3    167\n",
       "4    167\n",
       "5    109\n",
       "6    183\n",
       "7    121\n",
       "8    136\n",
       "9    187\n",
       "dtype: int32"
      ]
     },
     "execution_count": 99,
     "metadata": {},
     "output_type": "execute_result"
    }
   ],
   "source": [
    "np.random.seed(0)\n",
    "sample = pd.Series(np.random.randint(100, 200, size=(10,)))\n",
    "sample"
   ]
  },
  {
   "cell_type": "markdown",
   "id": "68b426e1",
   "metadata": {},
   "source": [
    "`sample`에서 다음과 같은 결과를 가지도록 **슬라이싱** 하세요"
   ]
  },
  {
   "cell_type": "code",
   "execution_count": 100,
   "id": "8e094997",
   "metadata": {},
   "outputs": [
    {
     "data": {
      "text/plain": [
       "2    164\n",
       "3    167\n",
       "4    167\n",
       "5    109\n",
       "6    183\n",
       "dtype: int32"
      ]
     },
     "execution_count": 100,
     "metadata": {},
     "output_type": "execute_result"
    }
   ],
   "source": [
    "# 코드를 입력해 주세요\n",
    "sample[2:7]"
   ]
  },
  {
   "cell_type": "markdown",
   "id": "7c73337b",
   "metadata": {},
   "source": [
    "<p><strong>[출력 결과]</p></strong>\n",
    "<pre>\n",
    "2   164\n",
    "3   167\n",
    "4   167\n",
    "5   109\n",
    "6   183\n",
    "dtype: int64</pre>"
   ]
  },
  {
   "cell_type": "code",
   "execution_count": 101,
   "id": "9717ae70",
   "metadata": {},
   "outputs": [
    {
     "data": {
      "text/plain": [
       "가    144\n",
       "나    147\n",
       "다    164\n",
       "라    167\n",
       "마    167\n",
       "바    109\n",
       "사    183\n",
       "아    121\n",
       "자    136\n",
       "차    187\n",
       "dtype: int32"
      ]
     },
     "execution_count": 101,
     "metadata": {},
     "output_type": "execute_result"
    }
   ],
   "source": [
    "np.random.seed(0)\n",
    "sample2 = pd.Series(np.random.randint(100, 200, size=(10,)), index=list('가나다라마바사아자차'))\n",
    "sample2"
   ]
  },
  {
   "cell_type": "markdown",
   "id": "24ce4249",
   "metadata": {},
   "source": [
    "`sample2`에서 다음과 같은 결과를 가지도록 **슬라이싱**하세요"
   ]
  },
  {
   "cell_type": "code",
   "execution_count": 102,
   "id": "1e11017d",
   "metadata": {},
   "outputs": [
    {
     "data": {
      "text/plain": [
       "바    109\n",
       "사    183\n",
       "아    121\n",
       "자    136\n",
       "차    187\n",
       "dtype: int32"
      ]
     },
     "execution_count": 102,
     "metadata": {},
     "output_type": "execute_result"
    }
   ],
   "source": [
    "# 코드를 입력해 주세요\n",
    "sample2['바':'차']"
   ]
  },
  {
   "cell_type": "markdown",
   "id": "d58e32db",
   "metadata": {},
   "source": [
    "<p><strong>[출력 결과]</strong></p>\n",
    "<pre>바    109\n",
    "사    183\n",
    "아    121\n",
    "자    136\n",
    "차    187\n",
    "dtype: int64</pre>"
   ]
  },
  {
   "cell_type": "code",
   "execution_count": 103,
   "id": "4f1fe6fd",
   "metadata": {},
   "outputs": [
    {
     "data": {
      "text/plain": [
       "가    144\n",
       "나    147\n",
       "다    164\n",
       "dtype: int32"
      ]
     },
     "execution_count": 103,
     "metadata": {},
     "output_type": "execute_result"
    }
   ],
   "source": [
    "# 코드를 입력해 주세요\n",
    "sample2['가':'다']"
   ]
  },
  {
   "cell_type": "markdown",
   "id": "3ea3a2ef",
   "metadata": {},
   "source": [
    "<p><strong>[출력 결과]</strong></p>\n",
    "<pre>가    144\n",
    "나    147\n",
    "다    164\n",
    "dtype: int64</pre>"
   ]
  },
  {
   "cell_type": "code",
   "execution_count": 104,
   "id": "dc143e51",
   "metadata": {},
   "outputs": [
    {
     "data": {
      "text/plain": [
       "나    147\n",
       "다    164\n",
       "라    167\n",
       "마    167\n",
       "바    109\n",
       "dtype: int32"
      ]
     },
     "execution_count": 104,
     "metadata": {},
     "output_type": "execute_result"
    }
   ],
   "source": [
    "# 코드를 입력해 주세요\n",
    "sample2['나':'바']"
   ]
  },
  {
   "cell_type": "markdown",
   "id": "a6dd0766",
   "metadata": {},
   "source": [
    "<p><strong>[출력 결과]</strong></p>\n",
    "<pre>나    147\n",
    "다    164\n",
    "라    167\n",
    "마    167\n",
    "바    109\n",
    "dtype: int64</pre>"
   ]
  },
  {
   "cell_type": "markdown",
   "id": "1fe89004",
   "metadata": {},
   "source": [
    "### DataFrame"
   ]
  },
  {
   "cell_type": "markdown",
   "id": "ea622d42",
   "metadata": {},
   "source": [
    "[도큐먼트](https://pandas.pydata.org/pandas-docs/stable/reference/api/pandas.DataFrame.html)"
   ]
  },
  {
   "cell_type": "markdown",
   "id": "4628c29f",
   "metadata": {},
   "source": [
    "`pd.DataFrame`\n",
    "\n",
    "- 2차원 데이터 구조 (Excel 데이터 시트를 생각하시면 됩니다)\n",
    "- 행(row), 열(column)으로 구성되어 있습니다.\n",
    "- 각 열(column)은 각각의 데이터 타입 (dtype)을 가집니다."
   ]
  },
  {
   "cell_type": "markdown",
   "id": "68d86b29",
   "metadata": {},
   "source": [
    "### 생성"
   ]
  },
  {
   "cell_type": "markdown",
   "id": "30871312",
   "metadata": {},
   "source": [
    "**list 를 통한 생성**할 수 있습니다. DataFrame을 만들 때는 **2차원 list를 대입**합니다."
   ]
  },
  {
   "cell_type": "code",
   "execution_count": 105,
   "id": "af716c68",
   "metadata": {},
   "outputs": [
    {
     "data": {
      "text/html": [
       "<div>\n",
       "<style scoped>\n",
       "    .dataframe tbody tr th:only-of-type {\n",
       "        vertical-align: middle;\n",
       "    }\n",
       "\n",
       "    .dataframe tbody tr th {\n",
       "        vertical-align: top;\n",
       "    }\n",
       "\n",
       "    .dataframe thead th {\n",
       "        text-align: right;\n",
       "    }\n",
       "</style>\n",
       "<table border=\"1\" class=\"dataframe\">\n",
       "  <thead>\n",
       "    <tr style=\"text-align: right;\">\n",
       "      <th></th>\n",
       "      <th>0</th>\n",
       "      <th>1</th>\n",
       "      <th>2</th>\n",
       "    </tr>\n",
       "  </thead>\n",
       "  <tbody>\n",
       "    <tr>\n",
       "      <th>0</th>\n",
       "      <td>1</td>\n",
       "      <td>2</td>\n",
       "      <td>3</td>\n",
       "    </tr>\n",
       "    <tr>\n",
       "      <th>1</th>\n",
       "      <td>4</td>\n",
       "      <td>5</td>\n",
       "      <td>6</td>\n",
       "    </tr>\n",
       "    <tr>\n",
       "      <th>2</th>\n",
       "      <td>7</td>\n",
       "      <td>8</td>\n",
       "      <td>9</td>\n",
       "    </tr>\n",
       "  </tbody>\n",
       "</table>\n",
       "</div>"
      ],
      "text/plain": [
       "   0  1  2\n",
       "0  1  2  3\n",
       "1  4  5  6\n",
       "2  7  8  9"
      ]
     },
     "execution_count": 105,
     "metadata": {},
     "output_type": "execute_result"
    }
   ],
   "source": [
    "pd.DataFrame([[1, 2, 3], \n",
    "              [4, 5, 6], \n",
    "              [7, 8, 9]])"
   ]
  },
  {
   "cell_type": "markdown",
   "id": "87092bc8",
   "metadata": {},
   "source": [
    "아래 예제와 같이 **columns를 지정**하면, DataFrame의 각 열에 대한 컬럼명이 붙습니다."
   ]
  },
  {
   "cell_type": "code",
   "execution_count": 106,
   "id": "b9013893",
   "metadata": {},
   "outputs": [
    {
     "data": {
      "text/html": [
       "<div>\n",
       "<style scoped>\n",
       "    .dataframe tbody tr th:only-of-type {\n",
       "        vertical-align: middle;\n",
       "    }\n",
       "\n",
       "    .dataframe tbody tr th {\n",
       "        vertical-align: top;\n",
       "    }\n",
       "\n",
       "    .dataframe thead th {\n",
       "        text-align: right;\n",
       "    }\n",
       "</style>\n",
       "<table border=\"1\" class=\"dataframe\">\n",
       "  <thead>\n",
       "    <tr style=\"text-align: right;\">\n",
       "      <th></th>\n",
       "      <th>가</th>\n",
       "      <th>나</th>\n",
       "      <th>다</th>\n",
       "    </tr>\n",
       "  </thead>\n",
       "  <tbody>\n",
       "    <tr>\n",
       "      <th>0</th>\n",
       "      <td>1</td>\n",
       "      <td>2</td>\n",
       "      <td>3</td>\n",
       "    </tr>\n",
       "    <tr>\n",
       "      <th>1</th>\n",
       "      <td>4</td>\n",
       "      <td>5</td>\n",
       "      <td>6</td>\n",
       "    </tr>\n",
       "    <tr>\n",
       "      <th>2</th>\n",
       "      <td>7</td>\n",
       "      <td>8</td>\n",
       "      <td>9</td>\n",
       "    </tr>\n",
       "  </tbody>\n",
       "</table>\n",
       "</div>"
      ],
      "text/plain": [
       "   가  나  다\n",
       "0  1  2  3\n",
       "1  4  5  6\n",
       "2  7  8  9"
      ]
     },
     "execution_count": 106,
     "metadata": {},
     "output_type": "execute_result"
    }
   ],
   "source": [
    "pd.DataFrame([[1, 2, 3], \n",
    "              [4, 5, 6], \n",
    "              [7, 8, 9]], columns=['가', '나', '다'])"
   ]
  },
  {
   "cell_type": "markdown",
   "id": "8982b6f6",
   "metadata": {},
   "source": [
    "**dictionary를 통한 생성**도 가능합니다.\n",
    "\n",
    "편리한 점은 dictionary의 **key 값이 자동으로 column 명으로 지정**됩니다."
   ]
  },
  {
   "cell_type": "code",
   "execution_count": 107,
   "id": "a352ea66",
   "metadata": {},
   "outputs": [],
   "source": [
    "data = {\n",
    "    'name': ['Kim', 'Lee', 'Park'], \n",
    "    'age': [24, 27, 34], \n",
    "    'children': [2, 1, 3]\n",
    "}"
   ]
  },
  {
   "cell_type": "code",
   "execution_count": 108,
   "id": "ad91040b",
   "metadata": {},
   "outputs": [
    {
     "data": {
      "text/html": [
       "<div>\n",
       "<style scoped>\n",
       "    .dataframe tbody tr th:only-of-type {\n",
       "        vertical-align: middle;\n",
       "    }\n",
       "\n",
       "    .dataframe tbody tr th {\n",
       "        vertical-align: top;\n",
       "    }\n",
       "\n",
       "    .dataframe thead th {\n",
       "        text-align: right;\n",
       "    }\n",
       "</style>\n",
       "<table border=\"1\" class=\"dataframe\">\n",
       "  <thead>\n",
       "    <tr style=\"text-align: right;\">\n",
       "      <th></th>\n",
       "      <th>name</th>\n",
       "      <th>age</th>\n",
       "      <th>children</th>\n",
       "    </tr>\n",
       "  </thead>\n",
       "  <tbody>\n",
       "    <tr>\n",
       "      <th>1</th>\n",
       "      <td>Kim</td>\n",
       "      <td>24</td>\n",
       "      <td>2</td>\n",
       "    </tr>\n",
       "    <tr>\n",
       "      <th>2</th>\n",
       "      <td>Lee</td>\n",
       "      <td>27</td>\n",
       "      <td>1</td>\n",
       "    </tr>\n",
       "    <tr>\n",
       "      <th>3</th>\n",
       "      <td>Park</td>\n",
       "      <td>34</td>\n",
       "      <td>3</td>\n",
       "    </tr>\n",
       "  </tbody>\n",
       "</table>\n",
       "</div>"
      ],
      "text/plain": [
       "   name  age  children\n",
       "1   Kim   24         2\n",
       "2   Lee   27         1\n",
       "3  Park   34         3"
      ]
     },
     "execution_count": 108,
     "metadata": {},
     "output_type": "execute_result"
    }
   ],
   "source": [
    "pd.DataFrame(data, index = [1,2,3])"
   ]
  },
  {
   "cell_type": "markdown",
   "id": "ca18ee50",
   "metadata": {},
   "source": [
    "### 속성"
   ]
  },
  {
   "cell_type": "markdown",
   "id": "c9bbbc1d",
   "metadata": {},
   "source": [
    "DataFrame은 다음의 **속성**을 가집니다.\n",
    "\n",
    "- **index**: index (기본 값으로 RangeIndex)\n",
    "- **columns**: column 명\n",
    "- **values**: numpy array형식의 데이터 값\n",
    "- **dtypes**: column 별 데이터 타입\n",
    "- **T**: DataFrame을 전치(Transpose)"
   ]
  },
  {
   "cell_type": "code",
   "execution_count": 109,
   "id": "47024ab7",
   "metadata": {},
   "outputs": [
    {
     "data": {
      "text/html": [
       "<div>\n",
       "<style scoped>\n",
       "    .dataframe tbody tr th:only-of-type {\n",
       "        vertical-align: middle;\n",
       "    }\n",
       "\n",
       "    .dataframe tbody tr th {\n",
       "        vertical-align: top;\n",
       "    }\n",
       "\n",
       "    .dataframe thead th {\n",
       "        text-align: right;\n",
       "    }\n",
       "</style>\n",
       "<table border=\"1\" class=\"dataframe\">\n",
       "  <thead>\n",
       "    <tr style=\"text-align: right;\">\n",
       "      <th></th>\n",
       "      <th>name</th>\n",
       "      <th>age</th>\n",
       "      <th>children</th>\n",
       "    </tr>\n",
       "  </thead>\n",
       "  <tbody>\n",
       "    <tr>\n",
       "      <th>0</th>\n",
       "      <td>Kim</td>\n",
       "      <td>24</td>\n",
       "      <td>2</td>\n",
       "    </tr>\n",
       "    <tr>\n",
       "      <th>1</th>\n",
       "      <td>Lee</td>\n",
       "      <td>27</td>\n",
       "      <td>1</td>\n",
       "    </tr>\n",
       "    <tr>\n",
       "      <th>2</th>\n",
       "      <td>Park</td>\n",
       "      <td>34</td>\n",
       "      <td>3</td>\n",
       "    </tr>\n",
       "  </tbody>\n",
       "</table>\n",
       "</div>"
      ],
      "text/plain": [
       "   name  age  children\n",
       "0   Kim   24         2\n",
       "1   Lee   27         1\n",
       "2  Park   34         3"
      ]
     },
     "execution_count": 109,
     "metadata": {},
     "output_type": "execute_result"
    }
   ],
   "source": [
    "data = {\n",
    "    'name': ['Kim', 'Lee', 'Park'], \n",
    "    'age': [24, 27, 34], \n",
    "    'children': [2, 1, 3]\n",
    "}\n",
    "\n",
    "df = pd.DataFrame(data)\n",
    "df"
   ]
  },
  {
   "cell_type": "code",
   "execution_count": 110,
   "id": "a8709bb6",
   "metadata": {},
   "outputs": [
    {
     "data": {
      "text/plain": [
       "RangeIndex(start=0, stop=3, step=1)"
      ]
     },
     "execution_count": 110,
     "metadata": {},
     "output_type": "execute_result"
    }
   ],
   "source": [
    "df.index"
   ]
  },
  {
   "cell_type": "code",
   "execution_count": 111,
   "id": "f24e7663",
   "metadata": {},
   "outputs": [
    {
     "data": {
      "text/plain": [
       "Index(['name', 'age', 'children'], dtype='object')"
      ]
     },
     "execution_count": 111,
     "metadata": {},
     "output_type": "execute_result"
    }
   ],
   "source": [
    "df.columns"
   ]
  },
  {
   "cell_type": "code",
   "execution_count": 112,
   "id": "469272ac",
   "metadata": {},
   "outputs": [
    {
     "data": {
      "text/plain": [
       "array([['Kim', 24, 2],\n",
       "       ['Lee', 27, 1],\n",
       "       ['Park', 34, 3]], dtype=object)"
      ]
     },
     "execution_count": 112,
     "metadata": {},
     "output_type": "execute_result"
    }
   ],
   "source": [
    "df.values"
   ]
  },
  {
   "cell_type": "markdown",
   "id": "5f9caf70",
   "metadata": {},
   "source": [
    "데이터프레임에서의 `dtypes` 속성은 칼럼별 `dtype`을 출력합니다"
   ]
  },
  {
   "cell_type": "code",
   "execution_count": 113,
   "id": "c043e9b8",
   "metadata": {},
   "outputs": [
    {
     "data": {
      "text/plain": [
       "name        object\n",
       "age          int64\n",
       "children     int64\n",
       "dtype: object"
      ]
     },
     "execution_count": 113,
     "metadata": {},
     "output_type": "execute_result"
    }
   ],
   "source": [
    "df.dtypes"
   ]
  },
  {
   "cell_type": "markdown",
   "id": "fb6986b4",
   "metadata": {},
   "source": [
    "`df.T`는 `DataFrame`을 **Transpose** 시켜줍니다."
   ]
  },
  {
   "cell_type": "code",
   "execution_count": 114,
   "id": "47790fed",
   "metadata": {},
   "outputs": [
    {
     "data": {
      "text/html": [
       "<div>\n",
       "<style scoped>\n",
       "    .dataframe tbody tr th:only-of-type {\n",
       "        vertical-align: middle;\n",
       "    }\n",
       "\n",
       "    .dataframe tbody tr th {\n",
       "        vertical-align: top;\n",
       "    }\n",
       "\n",
       "    .dataframe thead th {\n",
       "        text-align: right;\n",
       "    }\n",
       "</style>\n",
       "<table border=\"1\" class=\"dataframe\">\n",
       "  <thead>\n",
       "    <tr style=\"text-align: right;\">\n",
       "      <th></th>\n",
       "      <th>1</th>\n",
       "      <th>2</th>\n",
       "      <th>3</th>\n",
       "    </tr>\n",
       "  </thead>\n",
       "  <tbody>\n",
       "    <tr>\n",
       "      <th>name</th>\n",
       "      <td>Kim</td>\n",
       "      <td>Lee</td>\n",
       "      <td>Park</td>\n",
       "    </tr>\n",
       "    <tr>\n",
       "      <th>age</th>\n",
       "      <td>24</td>\n",
       "      <td>27</td>\n",
       "      <td>34</td>\n",
       "    </tr>\n",
       "    <tr>\n",
       "      <th>children</th>\n",
       "      <td>2</td>\n",
       "      <td>1</td>\n",
       "      <td>3</td>\n",
       "    </tr>\n",
       "  </tbody>\n",
       "</table>\n",
       "</div>"
      ],
      "text/plain": [
       "            1    2     3\n",
       "name      Kim  Lee  Park\n",
       "age        24   27    34\n",
       "children    2    1     3"
      ]
     },
     "execution_count": 114,
     "metadata": {},
     "output_type": "execute_result"
    }
   ],
   "source": [
    "df.index=[1,2,3]\n",
    "df.T"
   ]
  },
  {
   "cell_type": "markdown",
   "id": "71e438f4",
   "metadata": {},
   "source": [
    "### index 지정"
   ]
  },
  {
   "cell_type": "code",
   "execution_count": 115,
   "id": "466c406c",
   "metadata": {},
   "outputs": [
    {
     "data": {
      "text/html": [
       "<div>\n",
       "<style scoped>\n",
       "    .dataframe tbody tr th:only-of-type {\n",
       "        vertical-align: middle;\n",
       "    }\n",
       "\n",
       "    .dataframe tbody tr th {\n",
       "        vertical-align: top;\n",
       "    }\n",
       "\n",
       "    .dataframe thead th {\n",
       "        text-align: right;\n",
       "    }\n",
       "</style>\n",
       "<table border=\"1\" class=\"dataframe\">\n",
       "  <thead>\n",
       "    <tr style=\"text-align: right;\">\n",
       "      <th></th>\n",
       "      <th>name</th>\n",
       "      <th>age</th>\n",
       "      <th>children</th>\n",
       "    </tr>\n",
       "  </thead>\n",
       "  <tbody>\n",
       "    <tr>\n",
       "      <th>1</th>\n",
       "      <td>Kim</td>\n",
       "      <td>24</td>\n",
       "      <td>2</td>\n",
       "    </tr>\n",
       "    <tr>\n",
       "      <th>2</th>\n",
       "      <td>Lee</td>\n",
       "      <td>27</td>\n",
       "      <td>1</td>\n",
       "    </tr>\n",
       "    <tr>\n",
       "      <th>3</th>\n",
       "      <td>Park</td>\n",
       "      <td>34</td>\n",
       "      <td>3</td>\n",
       "    </tr>\n",
       "  </tbody>\n",
       "</table>\n",
       "</div>"
      ],
      "text/plain": [
       "   name  age  children\n",
       "1   Kim   24         2\n",
       "2   Lee   27         1\n",
       "3  Park   34         3"
      ]
     },
     "execution_count": 115,
     "metadata": {},
     "output_type": "execute_result"
    }
   ],
   "source": [
    "df"
   ]
  },
  {
   "cell_type": "code",
   "execution_count": 116,
   "id": "5c264003",
   "metadata": {},
   "outputs": [
    {
     "data": {
      "text/html": [
       "<div>\n",
       "<style scoped>\n",
       "    .dataframe tbody tr th:only-of-type {\n",
       "        vertical-align: middle;\n",
       "    }\n",
       "\n",
       "    .dataframe tbody tr th {\n",
       "        vertical-align: top;\n",
       "    }\n",
       "\n",
       "    .dataframe thead th {\n",
       "        text-align: right;\n",
       "    }\n",
       "</style>\n",
       "<table border=\"1\" class=\"dataframe\">\n",
       "  <thead>\n",
       "    <tr style=\"text-align: right;\">\n",
       "      <th></th>\n",
       "      <th>name</th>\n",
       "      <th>age</th>\n",
       "      <th>children</th>\n",
       "    </tr>\n",
       "  </thead>\n",
       "  <tbody>\n",
       "    <tr>\n",
       "      <th>a</th>\n",
       "      <td>Kim</td>\n",
       "      <td>24</td>\n",
       "      <td>2</td>\n",
       "    </tr>\n",
       "    <tr>\n",
       "      <th>b</th>\n",
       "      <td>Lee</td>\n",
       "      <td>27</td>\n",
       "      <td>1</td>\n",
       "    </tr>\n",
       "    <tr>\n",
       "      <th>c</th>\n",
       "      <td>Park</td>\n",
       "      <td>34</td>\n",
       "      <td>3</td>\n",
       "    </tr>\n",
       "  </tbody>\n",
       "</table>\n",
       "</div>"
      ],
      "text/plain": [
       "   name  age  children\n",
       "a   Kim   24         2\n",
       "b   Lee   27         1\n",
       "c  Park   34         3"
      ]
     },
     "execution_count": 116,
     "metadata": {},
     "output_type": "execute_result"
    }
   ],
   "source": [
    "df.index = list('abc')\n",
    "df"
   ]
  },
  {
   "cell_type": "markdown",
   "id": "e2986bac",
   "metadata": {},
   "source": [
    "(참고) DataFrame의 indexing / slcing은 나중에 세부적으로 다루도록 하겠습니다."
   ]
  },
  {
   "cell_type": "markdown",
   "id": "489b7caf",
   "metadata": {},
   "source": [
    "### column 다루기"
   ]
  },
  {
   "cell_type": "markdown",
   "id": "a0524b31",
   "metadata": {},
   "source": [
    "DataFrame에 key 값으로 column의 이름을 지정하여 column을 선택할 수 있습니다.\n",
    "\n",
    "1개의 column을 가져올 수 있으며, **1개의 cloumn 선택시 Series**가 됩니다."
   ]
  },
  {
   "cell_type": "code",
   "execution_count": 117,
   "id": "be0a7832",
   "metadata": {},
   "outputs": [
    {
     "data": {
      "text/plain": [
       "a     Kim\n",
       "b     Lee\n",
       "c    Park\n",
       "Name: name, dtype: object"
      ]
     },
     "execution_count": 117,
     "metadata": {},
     "output_type": "execute_result"
    }
   ],
   "source": [
    "df['name']"
   ]
  },
  {
   "cell_type": "code",
   "execution_count": 118,
   "id": "e508cdf4",
   "metadata": {},
   "outputs": [
    {
     "data": {
      "text/plain": [
       "pandas.core.series.Series"
      ]
     },
     "execution_count": 118,
     "metadata": {},
     "output_type": "execute_result"
    }
   ],
   "source": [
    "type(df['name'])"
   ]
  },
  {
   "cell_type": "markdown",
   "id": "d7388530",
   "metadata": {},
   "source": [
    "2개 이상의 column 선택은 **fancy indexing으로 가능**합니다."
   ]
  },
  {
   "cell_type": "code",
   "execution_count": 119,
   "id": "3cd29c7e",
   "metadata": {},
   "outputs": [
    {
     "data": {
      "text/html": [
       "<div>\n",
       "<style scoped>\n",
       "    .dataframe tbody tr th:only-of-type {\n",
       "        vertical-align: middle;\n",
       "    }\n",
       "\n",
       "    .dataframe tbody tr th {\n",
       "        vertical-align: top;\n",
       "    }\n",
       "\n",
       "    .dataframe thead th {\n",
       "        text-align: right;\n",
       "    }\n",
       "</style>\n",
       "<table border=\"1\" class=\"dataframe\">\n",
       "  <thead>\n",
       "    <tr style=\"text-align: right;\">\n",
       "      <th></th>\n",
       "      <th>name</th>\n",
       "      <th>children</th>\n",
       "    </tr>\n",
       "  </thead>\n",
       "  <tbody>\n",
       "    <tr>\n",
       "      <th>a</th>\n",
       "      <td>Kim</td>\n",
       "      <td>2</td>\n",
       "    </tr>\n",
       "    <tr>\n",
       "      <th>b</th>\n",
       "      <td>Lee</td>\n",
       "      <td>1</td>\n",
       "    </tr>\n",
       "    <tr>\n",
       "      <th>c</th>\n",
       "      <td>Park</td>\n",
       "      <td>3</td>\n",
       "    </tr>\n",
       "  </tbody>\n",
       "</table>\n",
       "</div>"
      ],
      "text/plain": [
       "   name  children\n",
       "a   Kim         2\n",
       "b   Lee         1\n",
       "c  Park         3"
      ]
     },
     "execution_count": 119,
     "metadata": {},
     "output_type": "execute_result"
    }
   ],
   "source": [
    "df[['name', 'children']]"
   ]
  },
  {
   "cell_type": "markdown",
   "id": "5fdf09c9",
   "metadata": {},
   "source": [
    "(참고) column에 대한 slicing도 가능하지만 이 부분도 나중에 다루도록 하겠습니다.\n",
    "\n",
    "**rename**으로 column명 변경 가능합니다.\n",
    "\n",
    "DataFrame.rename(columns={**'바꾸고자 하는 column명'** : **'바꿀 컬럼명'**})"
   ]
  },
  {
   "cell_type": "code",
   "execution_count": 120,
   "id": "c081f637",
   "metadata": {},
   "outputs": [
    {
     "data": {
      "text/html": [
       "<div>\n",
       "<style scoped>\n",
       "    .dataframe tbody tr th:only-of-type {\n",
       "        vertical-align: middle;\n",
       "    }\n",
       "\n",
       "    .dataframe tbody tr th {\n",
       "        vertical-align: top;\n",
       "    }\n",
       "\n",
       "    .dataframe thead th {\n",
       "        text-align: right;\n",
       "    }\n",
       "</style>\n",
       "<table border=\"1\" class=\"dataframe\">\n",
       "  <thead>\n",
       "    <tr style=\"text-align: right;\">\n",
       "      <th></th>\n",
       "      <th>이름</th>\n",
       "      <th>age</th>\n",
       "      <th>children</th>\n",
       "    </tr>\n",
       "  </thead>\n",
       "  <tbody>\n",
       "    <tr>\n",
       "      <th>a</th>\n",
       "      <td>Kim</td>\n",
       "      <td>24</td>\n",
       "      <td>2</td>\n",
       "    </tr>\n",
       "    <tr>\n",
       "      <th>b</th>\n",
       "      <td>Lee</td>\n",
       "      <td>27</td>\n",
       "      <td>1</td>\n",
       "    </tr>\n",
       "    <tr>\n",
       "      <th>c</th>\n",
       "      <td>Park</td>\n",
       "      <td>34</td>\n",
       "      <td>3</td>\n",
       "    </tr>\n",
       "  </tbody>\n",
       "</table>\n",
       "</div>"
      ],
      "text/plain": [
       "     이름  age  children\n",
       "a   Kim   24         2\n",
       "b   Lee   27         1\n",
       "c  Park   34         3"
      ]
     },
     "execution_count": 120,
     "metadata": {},
     "output_type": "execute_result"
    }
   ],
   "source": [
    "df.rename(columns={'name': '이름'})"
   ]
  },
  {
   "cell_type": "code",
   "execution_count": 121,
   "id": "3060fd11",
   "metadata": {},
   "outputs": [
    {
     "data": {
      "text/html": [
       "<div>\n",
       "<style scoped>\n",
       "    .dataframe tbody tr th:only-of-type {\n",
       "        vertical-align: middle;\n",
       "    }\n",
       "\n",
       "    .dataframe tbody tr th {\n",
       "        vertical-align: top;\n",
       "    }\n",
       "\n",
       "    .dataframe thead th {\n",
       "        text-align: right;\n",
       "    }\n",
       "</style>\n",
       "<table border=\"1\" class=\"dataframe\">\n",
       "  <thead>\n",
       "    <tr style=\"text-align: right;\">\n",
       "      <th></th>\n",
       "      <th>name</th>\n",
       "      <th>나이</th>\n",
       "      <th>children</th>\n",
       "    </tr>\n",
       "  </thead>\n",
       "  <tbody>\n",
       "    <tr>\n",
       "      <th>a</th>\n",
       "      <td>Kim</td>\n",
       "      <td>24</td>\n",
       "      <td>2</td>\n",
       "    </tr>\n",
       "    <tr>\n",
       "      <th>b</th>\n",
       "      <td>Lee</td>\n",
       "      <td>27</td>\n",
       "      <td>1</td>\n",
       "    </tr>\n",
       "    <tr>\n",
       "      <th>c</th>\n",
       "      <td>Park</td>\n",
       "      <td>34</td>\n",
       "      <td>3</td>\n",
       "    </tr>\n",
       "  </tbody>\n",
       "</table>\n",
       "</div>"
      ],
      "text/plain": [
       "   name  나이  children\n",
       "a   Kim  24         2\n",
       "b   Lee  27         1\n",
       "c  Park  34         3"
      ]
     },
     "execution_count": 121,
     "metadata": {},
     "output_type": "execute_result"
    }
   ],
   "source": [
    "df.rename(columns={'age': '나이'})"
   ]
  },
  {
   "cell_type": "markdown",
   "id": "969e4ed8",
   "metadata": {},
   "source": [
    "`inplace=True` 옵션으로 변경사항을 바로 적용할 수 있습니다."
   ]
  },
  {
   "cell_type": "code",
   "execution_count": 122,
   "id": "e334c5cf",
   "metadata": {},
   "outputs": [
    {
     "data": {
      "text/html": [
       "<div>\n",
       "<style scoped>\n",
       "    .dataframe tbody tr th:only-of-type {\n",
       "        vertical-align: middle;\n",
       "    }\n",
       "\n",
       "    .dataframe tbody tr th {\n",
       "        vertical-align: top;\n",
       "    }\n",
       "\n",
       "    .dataframe thead th {\n",
       "        text-align: right;\n",
       "    }\n",
       "</style>\n",
       "<table border=\"1\" class=\"dataframe\">\n",
       "  <thead>\n",
       "    <tr style=\"text-align: right;\">\n",
       "      <th></th>\n",
       "      <th>이름</th>\n",
       "      <th>age</th>\n",
       "      <th>children</th>\n",
       "    </tr>\n",
       "  </thead>\n",
       "  <tbody>\n",
       "    <tr>\n",
       "      <th>a</th>\n",
       "      <td>Kim</td>\n",
       "      <td>24</td>\n",
       "      <td>2</td>\n",
       "    </tr>\n",
       "    <tr>\n",
       "      <th>b</th>\n",
       "      <td>Lee</td>\n",
       "      <td>27</td>\n",
       "      <td>1</td>\n",
       "    </tr>\n",
       "    <tr>\n",
       "      <th>c</th>\n",
       "      <td>Park</td>\n",
       "      <td>34</td>\n",
       "      <td>3</td>\n",
       "    </tr>\n",
       "  </tbody>\n",
       "</table>\n",
       "</div>"
      ],
      "text/plain": [
       "     이름  age  children\n",
       "a   Kim   24         2\n",
       "b   Lee   27         1\n",
       "c  Park   34         3"
      ]
     },
     "execution_count": 122,
     "metadata": {},
     "output_type": "execute_result"
    }
   ],
   "source": [
    "df.rename(columns={'name': '이름'}, inplace=True)\n",
    "df"
   ]
  },
  {
   "cell_type": "markdown",
   "id": "cd765af6",
   "metadata": {},
   "source": [
    "### 연습문제\n",
    "\n",
    "다음의 DataFrame을 생성하세요\n",
    "\n",
    "- 생성된 DataFrame은 df 변수에 할당합니다."
   ]
  },
  {
   "cell_type": "code",
   "execution_count": 123,
   "id": "1e42e9c9",
   "metadata": {},
   "outputs": [
    {
     "data": {
      "text/html": [
       "<div>\n",
       "<style scoped>\n",
       "    .dataframe tbody tr th:only-of-type {\n",
       "        vertical-align: middle;\n",
       "    }\n",
       "\n",
       "    .dataframe tbody tr th {\n",
       "        vertical-align: top;\n",
       "    }\n",
       "\n",
       "    .dataframe thead th {\n",
       "        text-align: right;\n",
       "    }\n",
       "</style>\n",
       "<table border=\"1\" class=\"dataframe\">\n",
       "  <thead>\n",
       "    <tr style=\"text-align: right;\">\n",
       "      <th></th>\n",
       "      <th>food</th>\n",
       "      <th>price</th>\n",
       "      <th>rating</th>\n",
       "    </tr>\n",
       "  </thead>\n",
       "  <tbody>\n",
       "    <tr>\n",
       "      <th>0</th>\n",
       "      <td>KFC</td>\n",
       "      <td>1000</td>\n",
       "      <td>4.5</td>\n",
       "    </tr>\n",
       "    <tr>\n",
       "      <th>1</th>\n",
       "      <td>McDonald</td>\n",
       "      <td>2000</td>\n",
       "      <td>3.9</td>\n",
       "    </tr>\n",
       "    <tr>\n",
       "      <th>2</th>\n",
       "      <td>SchoolFood</td>\n",
       "      <td>2500</td>\n",
       "      <td>4.2</td>\n",
       "    </tr>\n",
       "  </tbody>\n",
       "</table>\n",
       "</div>"
      ],
      "text/plain": [
       "         food  price  rating\n",
       "0         KFC   1000     4.5\n",
       "1    McDonald   2000     3.9\n",
       "2  SchoolFood   2500     4.2"
      ]
     },
     "execution_count": 123,
     "metadata": {},
     "output_type": "execute_result"
    }
   ],
   "source": [
    "# 코드를 입력해 주세요\n",
    "df = pd.DataFrame({\n",
    "    'food' : ['KFC', 'McDonald','SchoolFood'],\n",
    "    'price' : [1000, 2000, 2500],\n",
    "    'rating' : [4.5, 3.9, 4.2]\n",
    "})\n",
    "df"
   ]
  },
  {
   "cell_type": "markdown",
   "id": "f6c928fd",
   "metadata": {},
   "source": [
    "<p><strong>[출력 결과]</strong></p>\n",
    "<div>\n",
    "<style scoped>\n",
    "    .dataframe tbody tr th:only-of-type {\n",
    "        vertical-align: middle;\n",
    "    }\n",
    "\n",
    "    .dataframe tbody tr th {\n",
    "        vertical-align: top;\n",
    "    }\n",
    "\n",
    "    .dataframe thead th {\n",
    "        text-align: right;\n",
    "    }\n",
    "</style>\n",
    "<table border=\"1\" class=\"dataframe\">\n",
    "  <thead>\n",
    "    <tr style=\"text-align: right;\">\n",
    "      <th></th>\n",
    "      <th>food</th>\n",
    "      <th>price</th>\n",
    "      <th>rating</th>\n",
    "    </tr>\n",
    "  </thead>\n",
    "  <tbody>\n",
    "    <tr>\n",
    "      <th>0</th>\n",
    "      <td>KFC</td>\n",
    "      <td>1000</td>\n",
    "      <td>4.5</td>\n",
    "    </tr>\n",
    "    <tr>\n",
    "      <th>1</th>\n",
    "      <td>McDonald</td>\n",
    "      <td>2000</td>\n",
    "      <td>3.9</td>\n",
    "    </tr>\n",
    "    <tr>\n",
    "      <th>2</th>\n",
    "      <td>SchoolFood</td>\n",
    "      <td>2500</td>\n",
    "      <td>4.2</td>\n",
    "    </tr>\n",
    "  </tbody>\n",
    "</table>\n",
    "</div>"
   ]
  },
  {
   "cell_type": "markdown",
   "id": "7fde6afd",
   "metadata": {},
   "source": [
    "food column과 rating column만 선택하여 출력하세요"
   ]
  },
  {
   "cell_type": "code",
   "execution_count": 124,
   "id": "80939f73",
   "metadata": {},
   "outputs": [
    {
     "data": {
      "text/html": [
       "<div>\n",
       "<style scoped>\n",
       "    .dataframe tbody tr th:only-of-type {\n",
       "        vertical-align: middle;\n",
       "    }\n",
       "\n",
       "    .dataframe tbody tr th {\n",
       "        vertical-align: top;\n",
       "    }\n",
       "\n",
       "    .dataframe thead th {\n",
       "        text-align: right;\n",
       "    }\n",
       "</style>\n",
       "<table border=\"1\" class=\"dataframe\">\n",
       "  <thead>\n",
       "    <tr style=\"text-align: right;\">\n",
       "      <th></th>\n",
       "      <th>food</th>\n",
       "      <th>rating</th>\n",
       "    </tr>\n",
       "  </thead>\n",
       "  <tbody>\n",
       "    <tr>\n",
       "      <th>0</th>\n",
       "      <td>KFC</td>\n",
       "      <td>4.5</td>\n",
       "    </tr>\n",
       "    <tr>\n",
       "      <th>1</th>\n",
       "      <td>McDonald</td>\n",
       "      <td>3.9</td>\n",
       "    </tr>\n",
       "    <tr>\n",
       "      <th>2</th>\n",
       "      <td>SchoolFood</td>\n",
       "      <td>4.2</td>\n",
       "    </tr>\n",
       "  </tbody>\n",
       "</table>\n",
       "</div>"
      ],
      "text/plain": [
       "         food  rating\n",
       "0         KFC     4.5\n",
       "1    McDonald     3.9\n",
       "2  SchoolFood     4.2"
      ]
     },
     "execution_count": 124,
     "metadata": {},
     "output_type": "execute_result"
    }
   ],
   "source": [
    "# 코드를 입력해 주세요\n",
    "df[['food', 'rating']]"
   ]
  },
  {
   "cell_type": "markdown",
   "id": "d70df36f",
   "metadata": {},
   "source": [
    "<p><strong>[출력 결과]</strong></p>\n",
    "<div>\n",
    "<style scoped>\n",
    "    .dataframe tbody tr th:only-of-type {\n",
    "        vertical-align: middle;\n",
    "    }\n",
    "\n",
    "    .dataframe tbody tr th {\n",
    "        vertical-align: top;\n",
    "    }\n",
    "\n",
    "    .dataframe thead th {\n",
    "        text-align: right;\n",
    "    }\n",
    "</style>\n",
    "<table border=\"1\" class=\"dataframe\">\n",
    "  <thead>\n",
    "    <tr style=\"text-align: right;\">\n",
    "      <th></th>\n",
    "      <th>food</th>\n",
    "      <th>rating</th>\n",
    "    </tr>\n",
    "  </thead>\n",
    "  <tbody>\n",
    "    <tr>\n",
    "      <th>0</th>\n",
    "      <td>KFC</td>\n",
    "      <td>4.5</td>\n",
    "    </tr>\n",
    "    <tr>\n",
    "      <th>1</th>\n",
    "      <td>McDonald</td>\n",
    "      <td>3.9</td>\n",
    "    </tr>\n",
    "    <tr>\n",
    "      <th>2</th>\n",
    "      <td>SchoolFood</td>\n",
    "      <td>4.2</td>\n",
    "    </tr>\n",
    "  </tbody>\n",
    "</table>\n",
    "</div>"
   ]
  },
  {
   "cell_type": "code",
   "execution_count": 125,
   "id": "3013304d",
   "metadata": {},
   "outputs": [
    {
     "data": {
      "text/plain": [
       "pandas.core.frame.DataFrame"
      ]
     },
     "execution_count": 125,
     "metadata": {},
     "output_type": "execute_result"
    }
   ],
   "source": [
    "type(df[['food', 'rating']])"
   ]
  },
  {
   "cell_type": "markdown",
   "id": "709dfb76",
   "metadata": {},
   "source": [
    "food column명을 place로 변경해 주세요"
   ]
  },
  {
   "cell_type": "code",
   "execution_count": 126,
   "id": "ebf40a9d",
   "metadata": {},
   "outputs": [],
   "source": [
    "# 코드를 입력해 주세요\n",
    "df.rename(columns={'food': 'place'}, inplace=True)"
   ]
  },
  {
   "cell_type": "markdown",
   "id": "ca47928d",
   "metadata": {},
   "source": [
    "<p><strong>[출력 결과]</strong></p>\n",
    "<div>\n",
    "<style scoped>\n",
    "    .dataframe tbody tr th:only-of-type {\n",
    "        vertical-align: middle;\n",
    "    }\n",
    "\n",
    "    .dataframe tbody tr th {\n",
    "        vertical-align: top;\n",
    "    }\n",
    "\n",
    "    .dataframe thead th {\n",
    "        text-align: right;\n",
    "    }\n",
    "</style>\n",
    "<table border=\"1\" class=\"dataframe\">\n",
    "  <thead>\n",
    "    <tr style=\"text-align: right;\">\n",
    "      <th></th>\n",
    "      <th>place</th>\n",
    "      <th>price</th>\n",
    "      <th>rating</th>\n",
    "    </tr>\n",
    "  </thead>\n",
    "  <tbody>\n",
    "    <tr>\n",
    "      <th>0</th>\n",
    "      <td>KFC</td>\n",
    "      <td>1000</td>\n",
    "      <td>4.5</td>\n",
    "    </tr>\n",
    "    <tr>\n",
    "      <th>1</th>\n",
    "      <td>McDonald</td>\n",
    "      <td>2000</td>\n",
    "      <td>3.9</td>\n",
    "    </tr>\n",
    "    <tr>\n",
    "      <th>2</th>\n",
    "      <td>SchoolFood</td>\n",
    "      <td>2500</td>\n",
    "      <td>4.2</td>\n",
    "    </tr>\n",
    "  </tbody>\n",
    "</table>\n",
    "</div>"
   ]
  },
  {
   "cell_type": "markdown",
   "id": "25183759",
   "metadata": {},
   "source": [
    "## 제출\n",
    "\n",
    "제출을 위해 아래와 같은 DataFrame을 생성하여 `result_df`에 저장하세요.\n",
    "\n",
    "<div>\n",
    "<style scoped>\n",
    "    .dataframe tbody tr th:only-of-type {\n",
    "        vertical-align: middle;\n",
    "    }\n",
    "\n",
    "    .dataframe tbody tr th {\n",
    "        vertical-align: top;\n",
    "    }\n",
    "\n",
    "    .dataframe thead th {\n",
    "        text-align: right;\n",
    "    }\n",
    "</style>\n",
    "<table border=\"1\" class=\"dataframe\">\n",
    "  <thead>\n",
    "    <tr style=\"text-align: right;\">\n",
    "      <th></th>\n",
    "      <th>name</th>\n",
    "      <th>age</th>\n",
    "      <th>children</th>\n",
    "    </tr>\n",
    "  </thead>\n",
    "  <tbody>\n",
    "    <tr>\n",
    "      <th>0</th>\n",
    "      <td>Kim</td>\n",
    "      <td>24</td>\n",
    "      <td>2</td>\n",
    "    </tr>\n",
    "    <tr>\n",
    "      <th>1</th>\n",
    "      <td>Lee</td>\n",
    "      <td>27</td>\n",
    "      <td>1</td>\n",
    "    </tr>\n",
    "    <tr>\n",
    "      <th>2</th>\n",
    "      <td>Park</td>\n",
    "      <td>34</td>\n",
    "      <td>3</td>\n",
    "    </tr>\n",
    "  </tbody>\n",
    "</table>\n",
    "</div>"
   ]
  },
  {
   "cell_type": "code",
   "execution_count": 127,
   "id": "7bf219cb",
   "metadata": {},
   "outputs": [
    {
     "data": {
      "text/html": [
       "<div>\n",
       "<style scoped>\n",
       "    .dataframe tbody tr th:only-of-type {\n",
       "        vertical-align: middle;\n",
       "    }\n",
       "\n",
       "    .dataframe tbody tr th {\n",
       "        vertical-align: top;\n",
       "    }\n",
       "\n",
       "    .dataframe thead th {\n",
       "        text-align: right;\n",
       "    }\n",
       "</style>\n",
       "<table border=\"1\" class=\"dataframe\">\n",
       "  <thead>\n",
       "    <tr style=\"text-align: right;\">\n",
       "      <th></th>\n",
       "      <th>name</th>\n",
       "      <th>age</th>\n",
       "      <th>children</th>\n",
       "    </tr>\n",
       "  </thead>\n",
       "  <tbody>\n",
       "    <tr>\n",
       "      <th>0</th>\n",
       "      <td>Kim</td>\n",
       "      <td>24</td>\n",
       "      <td>2</td>\n",
       "    </tr>\n",
       "    <tr>\n",
       "      <th>1</th>\n",
       "      <td>Lee</td>\n",
       "      <td>27</td>\n",
       "      <td>1</td>\n",
       "    </tr>\n",
       "    <tr>\n",
       "      <th>2</th>\n",
       "      <td>Park</td>\n",
       "      <td>34</td>\n",
       "      <td>3</td>\n",
       "    </tr>\n",
       "  </tbody>\n",
       "</table>\n",
       "</div>"
      ],
      "text/plain": [
       "   name  age  children\n",
       "0   Kim   24         2\n",
       "1   Lee   27         1\n",
       "2  Park   34         3"
      ]
     },
     "execution_count": 127,
     "metadata": {},
     "output_type": "execute_result"
    }
   ],
   "source": [
    "result_df = pd.DataFrame({\n",
    "    'name' : ['Kim', 'Lee', 'Park'],\n",
    "    'age' : [24, 27, 34],\n",
    "    'children' : [2, 1, 3]\n",
    "})\n",
    "result_df"
   ]
  },
  {
   "cell_type": "markdown",
   "id": "c41f4564",
   "metadata": {},
   "source": [
    "## 채점 수행\n",
    "\n",
    "아래 코드는 채점 수행을 위한 코드입니다.\n",
    "\n",
    "따라서 이를 수정했을시 **채점이 제대로 이루어지지 않습니다.**\n",
    "\n",
    "**주의**: 채점 코드를 실행하기 전에 반드시 코드 파일을 한번 저장하시길 바랍니다."
   ]
  },
  {
   "cell_type": "code",
   "execution_count": 128,
   "id": "91af8f96",
   "metadata": {},
   "outputs": [
    {
     "data": {
      "text/plain": [
       "1"
      ]
     },
     "execution_count": 128,
     "metadata": {},
     "output_type": "execute_result"
    }
   ],
   "source": [
    "import os\n",
    "\n",
    "result_df.to_json('result.json')\n",
    "\n",
    "os.system('elice_grade result.json cds_ds_exercise.ipynb')"
   ]
  }
 ],
 "metadata": {
  "kernelspec": {
   "display_name": "Python 3 (ipykernel)",
   "language": "python",
   "name": "python3"
  },
  "language_info": {
   "codemirror_mode": {
    "name": "ipython",
    "version": 3
   },
   "file_extension": ".py",
   "mimetype": "text/x-python",
   "name": "python",
   "nbconvert_exporter": "python",
   "pygments_lexer": "ipython3",
   "version": "3.12.3"
  }
 },
 "nbformat": 4,
 "nbformat_minor": 5
}
